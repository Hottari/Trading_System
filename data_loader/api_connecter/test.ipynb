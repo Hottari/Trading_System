{
 "cells": [
  {
   "cell_type": "code",
   "execution_count": 2,
   "metadata": {},
   "outputs": [],
   "source": [
    "import pandas as pd\n",
    "from datetime import datetime\n",
    "import json\n",
    "\n",
    "import os, sys\n",
    "sys.path.extend(['../', '../../'])\n",
    "from prepare_data import ExchangeData\n",
    "from backtester.data_process import DataProcessor\n",
    "\n",
    "CONFIG_ROOT = os.path.join(os.path.dirname(os.path.dirname(os.getcwd())), 'config')\n",
    "\n",
    "# read data\n",
    "import configparser\n",
    "config = configparser.ConfigParser()\n",
    "for file_name in os.listdir(CONFIG_ROOT):\n",
    "    file_path = os.path.join(CONFIG_ROOT, file_name)\n",
    "    if os.path.isfile(file_path):\n",
    "        if file_name.endswith('.ini'):\n",
    "            config.read(file_path)\n",
    "\n"
   ]
  },
  {
   "cell_type": "code",
   "execution_count": 3,
   "metadata": {},
   "outputs": [],
   "source": [
    "\n",
    "class TEJHandler(ExchangeData, DataProcessor):  \n",
    "    \"\"\"\n",
    "        說明頁面: https://api.tej.com.tw/document_python.html\n",
    "        第一季季報: 5月15日前\n",
    "        第二季季報: 8月14日前\n",
    "        第三季季報: 11月14日前\n",
    "        年度財務報告: 次年3月31日前\n",
    "    \"\"\"  \n",
    "    def __init__(\n",
    "            self, \n",
    "        ):\n",
    "        pass"
   ]
  },
  {
   "cell_type": "code",
   "execution_count": 5,
   "metadata": {},
   "outputs": [],
   "source": [
    "test = TEJHandler()"
   ]
  },
  {
   "cell_type": "code",
   "execution_count": 7,
   "metadata": {},
   "outputs": [
    {
     "ename": "TypeError",
     "evalue": "DataProcessor.add_time() missing 1 required positional argument: 'df'",
     "output_type": "error",
     "traceback": [
      "\u001b[1;31m---------------------------------------------------------------------------\u001b[0m",
      "\u001b[1;31mTypeError\u001b[0m                                 Traceback (most recent call last)",
      "Cell \u001b[1;32mIn[7], line 1\u001b[0m\n\u001b[1;32m----> 1\u001b[0m \u001b[43mtest\u001b[49m\u001b[38;5;241;43m.\u001b[39;49m\u001b[43madd_time\u001b[49m\u001b[43m(\u001b[49m\u001b[43m)\u001b[49m\n",
      "\u001b[1;31mTypeError\u001b[0m: DataProcessor.add_time() missing 1 required positional argument: 'df'"
     ]
    }
   ],
   "source": [
    "test.add_time()"
   ]
  }
 ],
 "metadata": {
  "kernelspec": {
   "display_name": "env3.11",
   "language": "python",
   "name": "python3"
  },
  "language_info": {
   "codemirror_mode": {
    "name": "ipython",
    "version": 3
   },
   "file_extension": ".py",
   "mimetype": "text/x-python",
   "name": "python",
   "nbconvert_exporter": "python",
   "pygments_lexer": "ipython3",
   "version": "3.11.5"
  }
 },
 "nbformat": 4,
 "nbformat_minor": 2
}
