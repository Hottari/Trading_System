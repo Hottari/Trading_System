{
 "cells": [
  {
   "cell_type": "code",
   "execution_count": 1,
   "metadata": {},
   "outputs": [],
   "source": [
    "import requests\n",
    "import pandas as pd\n",
    "import numpy as np\n",
    "import os\n",
    "\n",
    "import datetime as dt\n",
    "import pytz\n",
    "\n",
    "timezone = 'Asia/Taipei'\n",
    "path_data_base = os.path.join(os.getcwd(), '..', 'Data')"
   ]
  },
  {
   "cell_type": "code",
   "execution_count": 2,
   "metadata": {},
   "outputs": [],
   "source": [
    "def check_data(df:pd.DataFrame):\n",
    "    print(f\"unique_index? {df.index.is_unique}\")\n",
    "    print(df.reset_index().info())\n"
   ]
  },
  {
   "attachments": {},
   "cell_type": "markdown",
   "metadata": {},
   "source": [
    "## 期權資料"
   ]
  },
  {
   "attachments": {},
   "cell_type": "markdown",
   "metadata": {},
   "source": [
    "### tvapi (海期監控-期天大勝?)\n",
    "* 大台最遠'2009-1-1', 小台最遠'2020-7-1'\n",
    "* Tickers\n",
    "    * 大台TX, 小台MTX"
   ]
  },
  {
   "cell_type": "code",
   "execution_count": 44,
   "metadata": {},
   "outputs": [
    {
     "name": "stdout",
     "output_type": "stream",
     "text": [
      "\u001b[1;31mInit signature:\u001b[0m\n",
      "\u001b[0mpd\u001b[0m\u001b[1;33m.\u001b[0m\u001b[0mTimedelta\u001b[0m\u001b[1;33m(\u001b[0m\u001b[1;33m\n",
      "\u001b[0m    \u001b[0mvalue\u001b[0m\u001b[1;33m=\u001b[0m\u001b[1;33m<\u001b[0m\u001b[0mobject\u001b[0m \u001b[0mobject\u001b[0m \u001b[0mat\u001b[0m \u001b[1;36m0x00000172DC1DC520\u001b[0m\u001b[1;33m>\u001b[0m\u001b[1;33m,\u001b[0m\u001b[1;33m\n",
      "\u001b[0m    \u001b[0munit\u001b[0m\u001b[1;33m=\u001b[0m\u001b[1;32mNone\u001b[0m\u001b[1;33m,\u001b[0m\u001b[1;33m\n",
      "\u001b[0m    \u001b[1;33m**\u001b[0m\u001b[0mkwargs\u001b[0m\u001b[1;33m,\u001b[0m\u001b[1;33m\n",
      "\u001b[0m\u001b[1;33m)\u001b[0m\u001b[1;33m\u001b[0m\u001b[1;33m\u001b[0m\u001b[0m\n",
      "\u001b[1;31mDocstring:\u001b[0m     \n",
      "Represents a duration, the difference between two dates or times.\n",
      "\n",
      "Timedelta is the pandas equivalent of python's ``datetime.timedelta``\n",
      "and is interchangeable with it in most cases.\n",
      "\n",
      "Parameters\n",
      "----------\n",
      "value : Timedelta, timedelta, np.timedelta64, str, or int\n",
      "unit : str, default 'ns'\n",
      "    Denote the unit of the input, if input is an integer.\n",
      "\n",
      "    Possible values:\n",
      "\n",
      "    * 'W', 'D', 'T', 'S', 'L', 'U', or 'N'\n",
      "    * 'days' or 'day'\n",
      "    * 'hours', 'hour', 'hr', or 'h'\n",
      "    * 'minutes', 'minute', 'min', or 'm'\n",
      "    * 'seconds', 'second', or 'sec'\n",
      "    * 'milliseconds', 'millisecond', 'millis', or 'milli'\n",
      "    * 'microseconds', 'microsecond', 'micros', or 'micro'\n",
      "    * 'nanoseconds', 'nanosecond', 'nanos', 'nano', or 'ns'.\n",
      "\n",
      "**kwargs\n",
      "    Available kwargs: {days, seconds, microseconds,\n",
      "    milliseconds, minutes, hours, weeks}.\n",
      "    Values for construction in compat with datetime.timedelta.\n",
      "    Numpy ints and floats will be coerced to python ints and floats.\n",
      "\n",
      "Notes\n",
      "-----\n",
      "The constructor may take in either both values of value and unit or\n",
      "kwargs as above. Either one of them must be used during initialization\n",
      "\n",
      "The ``.value`` attribute is always in ns.\n",
      "\n",
      "If the precision is higher than nanoseconds, the precision of the duration is\n",
      "truncated to nanoseconds.\n",
      "\n",
      "Examples\n",
      "--------\n",
      "Here we initialize Timedelta object with both value and unit\n",
      "\n",
      ">>> td = pd.Timedelta(1, \"d\")\n",
      ">>> td\n",
      "Timedelta('1 days 00:00:00')\n",
      "\n",
      "Here we initialize the Timedelta object with kwargs\n",
      "\n",
      ">>> td2 = pd.Timedelta(days=1)\n",
      ">>> td2\n",
      "Timedelta('1 days 00:00:00')\n",
      "\n",
      "We see that either way we get the same result\n",
      "\u001b[1;31mFile:\u001b[0m           c:\\users\\hottari\\anaconda3\\envs\\env3.9\\lib\\site-packages\\pandas\\_libs\\tslibs\\timedeltas.cp39-win_amd64.pyd\n",
      "\u001b[1;31mType:\u001b[0m           type\n",
      "\u001b[1;31mSubclasses:\u001b[0m     "
     ]
    }
   ],
   "source": [
    "pd.Timedelta?"
   ]
  },
  {
   "cell_type": "code",
   "execution_count": 29,
   "metadata": {},
   "outputs": [
    {
     "data": {
      "text/plain": [
       "datetime.datetime(2024, 1, 11, 11, 39, 25, 259932)"
      ]
     },
     "execution_count": 29,
     "metadata": {},
     "output_type": "execute_result"
    }
   ],
   "source": [
    "dt.datetime.now()"
   ]
  },
  {
   "cell_type": "code",
   "execution_count": 46,
   "metadata": {},
   "outputs": [],
   "source": [
    "def tvapi(symbol, freq:str, start:str, end:str=None, timezone:str='Asia/Taipei'):\n",
    "    if not end: \n",
    "        end = dt.datetime.now()\n",
    "    start_TimeStamp, end_TimeStamp = map(lambda x: pd.to_datetime(x).tz_localize(timezone).timestamp(), [start, end])\n",
    "    url = f'https://tvapi.futures-op.com/v2/history?symbol={symbol}-1&resolution={freq}&from={start_TimeStamp:.0f}&to={end_TimeStamp:.0f}&ws=true'\n",
    "\n",
    "    df = pd.read_json(url, convert_dates=['time']) # convert_dates is UTC\n",
    "    df['datetime'] = df['time'].dt.tz_localize('UTC').dt.tz_convert(timezone) + pd.Timedelta(minutes=1)\n",
    "\n",
    "    df_cleaned = (\n",
    "        df.set_index('datetime')[['open', 'high', 'low', 'close', 'volume']]\n",
    "        # .rename(columns={'open': 'Open', 'high': 'High', 'low': 'Low', 'close': 'Close', 'volume': 'TotalVolume'})\n",
    "        # [['Open', 'High', 'Low', 'Close', 'TotalVolume']]\n",
    "        .astype(float)\n",
    "        .sort_index()\n",
    "    )\n",
    "\n",
    "    return df_cleaned\n"
   ]
  },
  {
   "cell_type": "code",
   "execution_count": 4,
   "metadata": {},
   "outputs": [],
   "source": []
  },
  {
   "cell_type": "code",
   "execution_count": 5,
   "metadata": {},
   "outputs": [],
   "source": [
    "start = '2018-11-1'   \n",
    "end = '2023-11-11'\n",
    "freq = 1 #(分鐘)"
   ]
  },
  {
   "cell_type": "code",
   "execution_count": null,
   "metadata": {},
   "outputs": [],
   "source": [
    "# NQ, ES, YM\n",
    "\n",
    "start, end = '2023-6-1', '2023-11-11 23:59:59'   \n",
    "freq = 1\n",
    "symbol = 'NQ'\n",
    "df = tvapi(symbol, start, end, freq)"
   ]
  },
  {
   "cell_type": "code",
   "execution_count": 154,
   "metadata": {},
   "outputs": [
    {
     "name": "stdout",
     "output_type": "stream",
     "text": [
      "unique_index? True\n",
      "<class 'pandas.core.frame.DataFrame'>\n",
      "RangeIndex: 1213634 entries, 0 to 1213633\n",
      "Data columns (total 6 columns):\n",
      " #   Column       Non-Null Count    Dtype                      \n",
      "---  ------       --------------    -----                      \n",
      " 0   DateTime     1213634 non-null  datetime64[ns, Asia/Taipei]\n",
      " 1   Open         1213634 non-null  float64                    \n",
      " 2   High         1213634 non-null  float64                    \n",
      " 3   Low          1213634 non-null  float64                    \n",
      " 4   Close        1213634 non-null  float64                    \n",
      " 5   TotalVolume  1213634 non-null  float64                    \n",
      "dtypes: datetime64[ns, Asia/Taipei](1), float64(5)\n",
      "memory usage: 55.6 MB\n",
      "None\n"
     ]
    }
   ],
   "source": [
    "Check_data(df)"
   ]
  },
  {
   "cell_type": "code",
   "execution_count": 155,
   "metadata": {},
   "outputs": [],
   "source": [
    "df.to_pickle(f\"{os.getcwd()}/../Data/NQ(1T)_2020.6.1~2023.11.11.pkl\")"
   ]
  },
  {
   "attachments": {},
   "cell_type": "markdown",
   "metadata": {},
   "source": [
    "#### Update"
   ]
  },
  {
   "cell_type": "code",
   "execution_count": 55,
   "metadata": {},
   "outputs": [],
   "source": [
    "file_name = 'NQ(1T)_2009.4.21~2023.11.11.pkl'\n",
    "df_ori = pd.read_pickle(os.path.join(path_data_base, file_name))"
   ]
  },
  {
   "cell_type": "code",
   "execution_count": 56,
   "metadata": {},
   "outputs": [
    {
     "data": {
      "text/plain": [
       "Timestamp('2023-11-10 16:00:00-0600', tz='US/Central')"
      ]
     },
     "execution_count": 56,
     "metadata": {},
     "output_type": "execute_result"
    }
   ],
   "source": [
    "df_ori.index[-1]"
   ]
  },
  {
   "cell_type": "code",
   "execution_count": 47,
   "metadata": {},
   "outputs": [],
   "source": [
    "timezone = 'US/Central'\n",
    "# NQ, ES, YM\n",
    "\n",
    "start, end = '2023-11-10', None\n",
    "freq = 1\n",
    "symbol = 'NQ'\n",
    "df = tvapi(\n",
    "    symbol = symbol, \n",
    "    start = start, \n",
    "    end = end, \n",
    "    freq = freq, \n",
    "    timezone = timezone,\n",
    ")"
   ]
  },
  {
   "cell_type": "code",
   "execution_count": 81,
   "metadata": {},
   "outputs": [],
   "source": [
    "df_update = pd.concat([df_ori, df], axis='rows').sort_index()\n",
    "index_col = df_update.index.name\n",
    "\n",
    "df_update = df_update.reset_index().drop_duplicates(\n",
    "    subset=[index_col], keep='last').set_index([index_col])"
   ]
  },
  {
   "cell_type": "code",
   "execution_count": 90,
   "metadata": {},
   "outputs": [
    {
     "name": "stdout",
     "output_type": "stream",
     "text": [
      "unique_index? True\n",
      "<class 'pandas.core.frame.DataFrame'>\n",
      "RangeIndex: 4857044 entries, 0 to 4857043\n",
      "Data columns (total 6 columns):\n",
      " #   Column    Dtype                     \n",
      "---  ------    -----                     \n",
      " 0   datetime  datetime64[ns, US/Central]\n",
      " 1   open      float64                   \n",
      " 2   high      float64                   \n",
      " 3   low       float64                   \n",
      " 4   close     float64                   \n",
      " 5   volume    float64                   \n",
      "dtypes: datetime64[ns, US/Central](1), float64(5)\n",
      "memory usage: 222.3 MB\n",
      "None\n"
     ]
    }
   ],
   "source": [
    "check_data(df_update)"
   ]
  },
  {
   "cell_type": "code",
   "execution_count": 93,
   "metadata": {},
   "outputs": [],
   "source": [
    "end_date = df_update.index[-1].strftime('%Y.%m.%d')\n",
    "file_name = f\"NQ(1T)_2009.4.21~{end_date}.pkl\"\n",
    "\n",
    "df_update.to_pickle(os.path.join(path_data_base, file_name))"
   ]
  },
  {
   "cell_type": "markdown",
   "metadata": {},
   "source": [
    "### TradingView"
   ]
  },
  {
   "cell_type": "code",
   "execution_count": 8,
   "metadata": {},
   "outputs": [],
   "source": [
    "from tvDatafeed import TvDatafeed, Interval\n",
    "\n",
    "username = 'a12222421@gmail.com'\n",
    "password = username\n",
    "\n",
    "tv = TvDatafeed(username, password)"
   ]
  },
  {
   "cell_type": "code",
   "execution_count": 6,
   "metadata": {},
   "outputs": [
    {
     "name": "stdout",
     "output_type": "stream",
     "text": [
      "\u001b[1;31mInit signature:\u001b[0m \u001b[0mTvDatafeed\u001b[0m\u001b[1;33m(\u001b[0m\u001b[0musername\u001b[0m\u001b[1;33m:\u001b[0m \u001b[0mstr\u001b[0m \u001b[1;33m=\u001b[0m \u001b[1;32mNone\u001b[0m\u001b[1;33m,\u001b[0m \u001b[0mpassword\u001b[0m\u001b[1;33m:\u001b[0m \u001b[0mstr\u001b[0m \u001b[1;33m=\u001b[0m \u001b[1;32mNone\u001b[0m\u001b[1;33m)\u001b[0m \u001b[1;33m->\u001b[0m \u001b[1;32mNone\u001b[0m\u001b[1;33m\u001b[0m\u001b[1;33m\u001b[0m\u001b[0m\n",
      "\u001b[1;31mDocstring:\u001b[0m      <no docstring>\n",
      "\u001b[1;31mInit docstring:\u001b[0m\n",
      "Create TvDatafeed object\n",
      "\n",
      "Args:\n",
      "    username (str, optional): tradingview username. Defaults to None.\n",
      "    password (str, optional): tradingview password. Defaults to None.\n",
      "\u001b[1;31mFile:\u001b[0m           c:\\users\\hottari\\anaconda3\\envs\\env3.9\\lib\\site-packages\\tvdatafeed\\main.py\n",
      "\u001b[1;31mType:\u001b[0m           type\n",
      "\u001b[1;31mSubclasses:\u001b[0m     TvDatafeedLive"
     ]
    }
   ],
   "source": [
    "TvDatafeed?"
   ]
  },
  {
   "cell_type": "code",
   "execution_count": null,
   "metadata": {},
   "outputs": [],
   "source": [
    "search = tv.search_symbol('FANG')\n",
    "[ i for i in search if i['type']=='index']"
   ]
  },
  {
   "cell_type": "code",
   "execution_count": 9,
   "metadata": {},
   "outputs": [],
   "source": [
    "fang = tv.get_hist(symbol='NYFANG',exchange='ICEUS',interval=Interval.in_1_hour,n_bars=1000000)\n",
    "fang.index = fang.index.tz_localize('Asia/Taipei').tz_convert('US/Central')\n"
   ]
  },
  {
   "cell_type": "code",
   "execution_count": null,
   "metadata": {},
   "outputs": [],
   "source": [
    "start, end = fang.index[0].date().strftime('%Y.%m.%d'), fang.index[-1].date().strftime('%Y.%m.%d')\n",
    "file_name = f'fang(1h)_{start}~{end}.pkl'\n",
    "fang.to_pickle(os.path.join(path_data_base, file_name))"
   ]
  },
  {
   "attachments": {},
   "cell_type": "markdown",
   "metadata": {},
   "source": [
    "### 期交所"
   ]
  },
  {
   "cell_type": "code",
   "execution_count": 2,
   "metadata": {},
   "outputs": [],
   "source": [
    "# 買賣權分計\n",
    "def 買賣權分計(Date:str)->pd.DataFrame :\n",
    "    url = \"https://www.taifex.com.tw/cht/3/callsAndPutsDate\"\n",
    "    req = requests.post(\n",
    "        url,\n",
    "        {\n",
    "            \"queryType\": 1,\n",
    "            \"doQuery\": 1,\n",
    "            \"queryDate\": Date,\n",
    "        },\n",
    "    )\n",
    "    df = pd.read_html(req.text)[3]\n",
    "    df = df[[1, 2, 3, 14, 15]]\n",
    "    df.columns = ['商品名稱', '權別', '身分別', '淨口數(權)', '淨額(權)']\n",
    "    df = df.iloc[3:, :]\n",
    "    # 數值化\n",
    "    for col_name in df.columns[df.columns.to_list().index('身分別')+1:]:  df[col_name] = pd.to_numeric(df[col_name], errors='coerce')\n",
    "    # 數值化->to_numeric  ( errors='coerce -> 轉不過就填NaN )\n",
    "    \n",
    "    df['Date'] = pd.to_datetime(Date)      # df.insert(0, 'Date', Date)\n",
    "    return df.set_index(['Date', '商品名稱', '權別', '身分別']).sort_index()\n",
    "\n",
    "\n",
    "# 期貨未平倉\n",
    "def 期貨未平倉(Date:str)->pd.DataFrame :\n",
    "    url = \"https://www.taifex.com.tw/cht/3/futContractsDate\"\n",
    "    req = requests.post(\n",
    "        url,\n",
    "        {\n",
    "            \"queryType\": 1,\n",
    "            \"doQuery\": 1,\n",
    "            \"queryDate\": Date,\n",
    "        },\n",
    "    )\n",
    "    df = pd.read_html(req.text)[3]\n",
    "    df = df[[1, 2, 13, 14]]\n",
    "    df.columns = ['商品名稱', '身分別', '淨口數(期)', '淨額(期)']\n",
    "    df = df.iloc[3:, :]\n",
    "    # 數值化\n",
    "    for col_name in df.columns[df.columns.to_list().index('身分別')+1:]:  df[col_name] = pd.to_numeric(df[col_name], errors='coerce')\n",
    "    \n",
    "    df['Date'] = pd.to_datetime(Date) \n",
    "    return df.set_index(['Date', '商品名稱', '身分別'])"
   ]
  },
  {
   "cell_type": "code",
   "execution_count": 3,
   "metadata": {},
   "outputs": [],
   "source": [
    "Date_list = pd.date_range(start=\"2022/12/14\", end=\"2022/12/16\", freq='D')\n",
    "選擇分計_new_list = []\n",
    "期貨未平_new_list = []\n",
    "for Date in Date_list: \n",
    "    try:\n",
    "        Date = Date.strftime('%Y/%m/%d') \n",
    "        選擇分計_new_list.append(買賣權分計(Date))\n",
    "        期貨未平_new_list.append(期貨未平倉(Date))\n",
    "    except: continue"
   ]
  },
  {
   "cell_type": "code",
   "execution_count": 7,
   "metadata": {},
   "outputs": [],
   "source": [
    "選擇分計_new = pd.concat(選擇分計_new_list, axis='rows')\n",
    "期貨未平_new = pd.concat(期貨未平_new_list, axis='rows')\n",
    "\n",
    "選擇分計 = pd.read_pickle(path+'/Data/選擇分計-2019.11.11~2022-12-14.pkl')\n",
    "期貨未平 = pd.read_pickle(path+'/Data/期貨未平-2019.11.11~2022-12-14.pkl')"
   ]
  },
  {
   "cell_type": "code",
   "execution_count": 9,
   "metadata": {},
   "outputs": [],
   "source": [
    "def 檢查重複index(df:pd.DataFrame):\n",
    "    df = df.reset_index()\n",
    "    index_col = list( df.columns[:list(df.columns).index('身分別')+1 ])  # [a:b] -> index a 到 第 b 個\n",
    "    df = df.set_index( index_col )\n",
    "\n",
    "    if not df.index.is_unique:\n",
    "        return df.reset_index().drop_duplicates(subset=index_col, keep='last').set_index(index_col).sort_index()\n",
    "        # drop_duplicates -> https://ithelp.ithome.com.tw/articles/10272122\n",
    "\n",
    "    else: return df.reset_index().set_index(index_col).sort_index()"
   ]
  },
  {
   "cell_type": "code",
   "execution_count": 10,
   "metadata": {},
   "outputs": [
    {
     "name": "stdout",
     "output_type": "stream",
     "text": [
      "<class 'pandas.core.frame.DataFrame'>\n",
      "RangeIndex: 22860 entries, 0 to 22859\n",
      "Data columns (total 6 columns):\n",
      " #   Column  Non-Null Count  Dtype         \n",
      "---  ------  --------------  -----         \n",
      " 0   Date    22860 non-null  datetime64[ns]\n",
      " 1   商品名稱    22860 non-null  object        \n",
      " 2   權別      22860 non-null  object        \n",
      " 3   身分別     22860 non-null  object        \n",
      " 4   淨口數(權)  22860 non-null  int64         \n",
      " 5   淨額(權)   22860 non-null  int64         \n",
      "dtypes: datetime64[ns](1), int64(2), object(3)\n",
      "memory usage: 1.0+ MB\n",
      "<class 'pandas.core.frame.DataFrame'>\n",
      "RangeIndex: 42741 entries, 0 to 42740\n",
      "Data columns (total 5 columns):\n",
      " #   Column  Non-Null Count  Dtype         \n",
      "---  ------  --------------  -----         \n",
      " 0   Date    42741 non-null  datetime64[ns]\n",
      " 1   商品名稱    42741 non-null  object        \n",
      " 2   身分別     42741 non-null  object        \n",
      " 3   淨口數(期)  42741 non-null  int64         \n",
      " 4   淨額(期)   42741 non-null  int64         \n",
      "dtypes: datetime64[ns](1), int64(2), object(2)\n",
      "memory usage: 1.6+ MB\n",
      "None None\n"
     ]
    }
   ],
   "source": [
    "選擇分計_更新 = 檢查重複index(pd.concat([選擇分計, 選擇分計_new], axis='rows'))\n",
    "期貨未平_更新 = 檢查重複index(pd.concat([期貨未平, 期貨未平_new], axis='rows'))\n",
    "\n",
    "print(選擇分計_更新.reset_index().info(), 期貨未平_更新.reset_index().info())"
   ]
  },
  {
   "cell_type": "code",
   "execution_count": 13,
   "metadata": {},
   "outputs": [],
   "source": [
    "選擇分計_更新.to_pickle(path+'/Data/'+f\"選擇分計-2019.11.11~{dt.date.today().strftime('%Y.%m.%d')}.pkl\")\n",
    "期貨未平_更新.to_pickle(path+'/Data/'+f\"期貨未平-2019.11.11~{dt.date.today().strftime('%Y.%m.%d')}.pkl\")"
   ]
  },
  {
   "attachments": {},
   "cell_type": "markdown",
   "metadata": {},
   "source": [
    "## 選股"
   ]
  },
  {
   "attachments": {},
   "cell_type": "markdown",
   "metadata": {},
   "source": [
    "### TEJ、GoodInfo"
   ]
  },
  {
   "cell_type": "code",
   "execution_count": 608,
   "metadata": {},
   "outputs": [],
   "source": [
    "import requests\n",
    "import pandas as pd\n",
    "import numpy as np\n",
    "import os\n",
    "path = os.getcwd()\n",
    "import datetime as dt\n",
    "\n",
    "import tejapi as tej  # 888/月 才有3率\n",
    "from bs4 import BeautifulSoup as BS"
   ]
  },
  {
   "attachments": {},
   "cell_type": "markdown",
   "metadata": {},
   "source": [
    "#### 函式區"
   ]
  },
  {
   "cell_type": "code",
   "execution_count": 2,
   "metadata": {},
   "outputs": [],
   "source": [
    "# +-+-+-+-+-+-+ 代號配對 +-+-+-+-+-+-+\n",
    "def get_match(need, compare):\n",
    "    match = []\n",
    "    delete = None\n",
    "    filter = compare.copy()\n",
    "    for i in need:\n",
    "        try: filter.remove(delete)  # 已配對的拿掉\n",
    "        except: None\n",
    "        \n",
    "        for j in filter:\n",
    "            if i == j:\n",
    "                match.append(j)\n",
    "                delete = j\n",
    "                break\n",
    "    return match\n",
    "\n",
    "\n",
    "# +-+-+-+-+-+-+ 篩選結果 +-+-+-+-+-+-+\n",
    "def get_filter_code(url):\n",
    "    # 解析 html\n",
    "    headers = {\n",
    "        \"User-Agent\":\"Mozilla/5.0 (Windows NT 10.0; Win64; x64) AppleWebKit/537.36 (KHTML, like Gecko) Chrome/105.0.0.0 Safari/537.36\"\n",
    "    }  # 設定 headers 的 User-Agent -> https://marketingliveincode.com/?p=4556 (偽瀏覽器?)\n",
    "\n",
    "    req = requests.get(url, headers=headers)\n",
    "    html = BS(req.content, \"lxml\")  # \"lxml\"解析比\"html.parser\"快 -> https://ithelp.ithome.com.tw/articles/10186119\n",
    "                                    # pd.read_html(req.content)讀更久\n",
    "    # 存代號\n",
    "    code_list = []\n",
    "    for i in html.find_all(\"a\", class_=\"link_black\", target=\"_blank\"):\n",
    "        try: code_list.append(int(str(i)[-8:-4]))\n",
    "        except: continue\n",
    "    code = code_list[int(len(code_list) / 2) :]  # 會重複抓\n",
    "    return code"
   ]
  },
  {
   "cell_type": "code",
   "execution_count": 8,
   "metadata": {},
   "outputs": [],
   "source": [
    "new  = list(pd.read_csv(path + \"/new.csv\")['代號'].astype(str))\n",
    "futures = list(pd.read_csv(path + \"/futures.csv\")['一般'].astype(str))"
   ]
  },
  {
   "cell_type": "code",
   "execution_count": 13,
   "metadata": {},
   "outputs": [
    {
     "data": {
      "text/plain": [
       "['3035', '3037']"
      ]
     },
     "execution_count": 13,
     "metadata": {},
     "output_type": "execute_result"
    }
   ],
   "source": [
    "new_OK = get_match(futures, new)\n",
    "new_OK"
   ]
  },
  {
   "cell_type": "code",
   "execution_count": 17,
   "metadata": {},
   "outputs": [],
   "source": [
    "url_long = \"https://goodinfo.tw/tw2/StockList.asp?MARKET_CAT=%E8%87%AA%E8%A8%82%E7%AF%A9%E9%81%B8&INDUSTRY_CAT=%E6%88%91%E7%9A%84%E6%A2%9D%E4%BB%B6&FL_ITEM0=%E5%96%AE%E5%AD%A3%E2%80%93%E6%AF%9B%E5%88%A9%E7%8E%87%E5%B9%B4%E5%A2%9E%E6%B8%9B%E6%95%B8&FL_VAL_S0=0&FL_VAL_E0=&FL_ITEM1=%E5%96%AE%E5%AD%A3%E2%80%93%E7%87%9F%E6%A5%AD%E5%88%A9%E7%9B%8A%E7%8E%87%E5%B9%B4%E5%A2%9E%E6%B8%9B%E6%95%B8&FL_VAL_S1=0&FL_VAL_E1=&FL_ITEM2=%E5%96%AE%E6%9C%88%E7%87%9F%E6%94%B6%E5%B9%B4%E5%A2%9E%E6%B8%9B%E7%8E%87%28%25%29&FL_VAL_S2=0&FL_VAL_E2=&FL_ITEM3=&FL_VAL_S3=&FL_VAL_E3=&FL_ITEM4=&FL_VAL_S4=&FL_VAL_E4=&FL_ITEM5=&FL_VAL_S5=&FL_VAL_E5=&FL_ITEM6=&FL_VAL_S6=&FL_VAL_E6=&FL_ITEM7=&FL_VAL_S7=&FL_VAL_E7=&FL_ITEM8=&FL_VAL_S8=&FL_VAL_E8=&FL_ITEM9=&FL_VAL_S9=&FL_VAL_E9=&FL_ITEM10=&FL_VAL_S10=&FL_VAL_E10=&FL_ITEM11=&FL_VAL_S11=&FL_VAL_E11=&FL_RULE0=&FL_RULE1=&FL_RULE2=&FL_RULE3=&FL_RULE4=&FL_RULE5=&FL_RANK0=&FL_RANK1=&FL_RANK2=&FL_RANK3=&FL_RANK4=&FL_RANK5=&FL_FD0=&FL_FD1=&FL_FD2=&FL_FD3=&FL_FD4=&FL_FD5=&FL_SHEET=%E8%87%AA%E8%A8%82%E6%AC%84%E4%BD%8D_%E8%A7%80%E5%AF%9F&FL_SHEET2=&FL_MARKET=%E4%B8%8A%E5%B8%82%2F%E4%B8%8A%E6%AB%83&FL_QRY=%E6%9F%A5++%E8%A9%A2\"\n",
    "# \"https://goodinfo.tw/tw2/StockList.asp?MARKET_CAT=%E8%87%AA%E8%A8%82%E7%AF%A9%E9%81%B8&INDUSTRY_CAT=%E6%88%91%E7%9A%84%E6%A2%9D%E4%BB%B6&FL_ITEM0=%E5%96%AE%E5%AD%A3%E2%80%93%E6%AF%9B%E5%88%A9%E7%8E%87%E5%B9%B4%E5%A2%9E%E6%B8%9B%E6%95%B8&FL_VAL_S0=0&FL_VAL_E0=&FL_ITEM1=%E5%96%AE%E5%AD%A3%E2%80%93%E7%87%9F%E6%A5%AD%E5%88%A9%E7%9B%8A%E7%8E%87%E5%B9%B4%E5%A2%9E%E6%B8%9B%E6%95%B8&FL_VAL_S1=0&FL_VAL_E1=&FL_ITEM2=%E5%96%AE%E6%9C%88%E7%87%9F%E6%94%B6%E5%B9%B4%E5%A2%9E%E6%B8%9B%E7%8E%87%28%25%29&FL_VAL_S2=0&FL_VAL_E2=&FL_ITEM3=%E6%9C%AC%E7%9B%8A%E6%AF%94+%28PER%29&FL_VAL_S3=&FL_VAL_E3=10&FL_ITEM4=%E6%B3%95%E4%BA%BA%E9%80%A3%E8%B2%B7%E6%97%A5%E6%95%B8%E2%80%93%E5%A4%96%E8%B3%87&FL_VAL_S4=3&FL_VAL_E4=&FL_ITEM5=%E7%8F%BE%E9%87%91%E6%AE%96%E5%88%A9%E7%8E%87+%28%25%29&FL_VAL_S5=6&FL_VAL_E5=&FL_ITEM6=&FL_VAL_S6=&FL_VAL_E6=&FL_ITEM7=&FL_VAL_S7=&FL_VAL_E7=&FL_ITEM8=&FL_VAL_S8=&FL_VAL_E8=&FL_ITEM9=&FL_VAL_S9=&FL_VAL_E9=&FL_ITEM10=&FL_VAL_S10=&FL_VAL_E10=&FL_ITEM11=&FL_VAL_S11=&FL_VAL_E11=&FL_RULE0=%E7%94%A2%E6%A5%AD%E9%A1%9E%E5%88%A5%7C%7C%E7%94%9F%E6%8A%80%E9%86%AB%E7%99%82%E6%A5%AD&FL_RULE_CHK0=T&FL_RULE1=%E7%94%A2%E6%A5%AD%E9%A1%9E%E5%88%A5%7C%7C%E8%88%AA%E9%81%8B%E6%A5%AD&FL_RULE_CHK1=T&FL_RULE2=%E7%94%A2%E6%A5%AD%E9%A1%9E%E5%88%A5%7C%7C%E9%8A%80%E8%A1%8C%E6%A5%AD&FL_RULE_CHK2=T&FL_RULE3=%E7%94%A2%E6%A5%AD%E9%A1%9E%E5%88%A5%7C%7C%E4%BF%9D%E9%9A%AA%E6%A5%AD&FL_RULE_CHK3=T&FL_RULE4=%E7%94%A2%E6%A5%AD%E9%A1%9E%E5%88%A5%7C%7C%E9%87%91%E6%8E%A7%E6%A5%AD&FL_RULE_CHK4=T&FL_RULE5=&FL_RANK0=&FL_RANK1=&FL_RANK2=&FL_RANK3=&FL_RANK4=&FL_RANK5=&FL_FD0=&FL_FD1=&FL_FD2=&FL_FD3=&FL_FD4=&FL_FD5=&FL_SHEET=%E4%BA%A4%E6%98%93%E7%8B%80%E6%B3%81&FL_SHEET2=&FL_MARKET=%E4%B8%8A%E5%B8%82%2F%E4%B8%8A%E6%AB%83&FL_QRY=%E6%9F%A5++%E8%A9%A2\"\n",
    "url_short000 = \"https://goodinfo.tw/tw2/StockList.asp?MARKET_CAT=%E8%87%AA%E8%A8%82%E7%AF%A9%E9%81%B8&INDUSTRY_CAT=%E6%88%91%E7%9A%84%E6%A2%9D%E4%BB%B6&FL_ITEM0=%E5%96%AE%E5%AD%A3%E2%80%93%E6%AF%9B%E5%88%A9%E7%8E%87%E5%B9%B4%E5%A2%9E%E6%B8%9B%E6%95%B8&FL_VAL_S0=&FL_VAL_E0=0&FL_ITEM1=%E5%96%AE%E5%AD%A3%E2%80%93%E7%87%9F%E6%A5%AD%E5%88%A9%E7%9B%8A%E7%8E%87%E5%B9%B4%E5%A2%9E%E6%B8%9B%E6%95%B8&FL_VAL_S1=&FL_VAL_E1=0&FL_ITEM2=%E5%96%AE%E6%9C%88%E7%87%9F%E6%94%B6%E5%B9%B4%E5%A2%9E%E6%B8%9B%E7%8E%87%28%25%29&FL_VAL_S2=&FL_VAL_E2=0&FL_ITEM3=&FL_VAL_S3=&FL_VAL_E3=&FL_ITEM4=&FL_VAL_S4=&FL_VAL_E4=&FL_ITEM5=&FL_VAL_S5=&FL_VAL_E5=&FL_ITEM6=&FL_VAL_S6=&FL_VAL_E6=&FL_ITEM7=&FL_VAL_S7=&FL_VAL_E7=&FL_ITEM8=&FL_VAL_S8=&FL_VAL_E8=&FL_ITEM9=&FL_VAL_S9=&FL_VAL_E9=&FL_ITEM10=&FL_VAL_S10=&FL_VAL_E10=&FL_ITEM11=&FL_VAL_S11=&FL_VAL_E11=&FL_RULE0=&FL_RULE1=&FL_RULE2=&FL_RULE3=&FL_RULE4=&FL_RULE5=&FL_RANK0=&FL_RANK1=&FL_RANK2=&FL_RANK3=&FL_RANK4=&FL_RANK5=&FL_FD0=&FL_FD1=&FL_FD2=&FL_FD3=&FL_FD4=&FL_FD5=&FL_SHEET=%E8%87%AA%E8%A8%82%E6%AC%84%E4%BD%8D_%E8%A7%80%E5%AF%9F&FL_SHEET2=&FL_MARKET=%E4%B8%8A%E5%B8%82%2F%E4%B8%8A%E6%AB%83&FL_QRY=%E6%9F%A5++%E8%A9%A2\"\n",
    "# \"https://goodinfo.tw/tw2/StockList.asp?MARKET_CAT=%E8%87%AA%E8%A8%82%E7%AF%A9%E9%81%B8&INDUSTRY_CAT=%E6%88%91%E7%9A%84%E6%A2%9D%E4%BB%B6&FL_ITEM0=%E5%96%AE%E5%AD%A3%E2%80%93%E6%AF%9B%E5%88%A9%E7%8E%87%E5%B9%B4%E5%A2%9E%E6%B8%9B%E6%95%B8&FL_VAL_S0=&FL_VAL_E0=0&FL_ITEM1=%E5%96%AE%E5%AD%A3%E2%80%93%E7%87%9F%E6%A5%AD%E5%88%A9%E7%9B%8A%E7%8E%87%E5%B9%B4%E5%A2%9E%E6%B8%9B%E6%95%B8&FL_VAL_S1=&FL_VAL_E1=0&FL_ITEM2=%E5%96%AE%E6%9C%88%E7%87%9F%E6%94%B6%E5%B9%B4%E5%A2%9E%E6%B8%9B%E7%8E%87%28%25%29&FL_VAL_S2=&FL_VAL_E2=0&FL_ITEM3=%E6%9C%AC%E7%9B%8A%E6%AF%94+%28PER%29&FL_VAL_S3=30&FL_VAL_E3=&FL_ITEM4=%E6%B3%95%E4%BA%BA%E9%80%A3%E8%B3%A3%E6%97%A5%E6%95%B8%E2%80%93%E5%A4%96%E8%B3%87&FL_VAL_S4=3&FL_VAL_E4=&FL_ITEM5=&FL_VAL_S5=&FL_VAL_E5=&FL_ITEM6=&FL_VAL_S6=&FL_VAL_E6=&FL_ITEM7=&FL_VAL_S7=&FL_VAL_E7=&FL_ITEM8=&FL_VAL_S8=&FL_VAL_E8=&FL_ITEM9=&FL_VAL_S9=&FL_VAL_E9=&FL_ITEM10=&FL_VAL_S10=&FL_VAL_E10=&FL_ITEM11=&FL_VAL_S11=&FL_VAL_E11=&FL_RULE0=%E7%94%A2%E6%A5%AD%E9%A1%9E%E5%88%A5%7C%7C%E7%94%9F%E6%8A%80%E9%86%AB%E7%99%82%E6%A5%AD&FL_RULE_CHK0=T&FL_RULE1=%E7%94%A2%E6%A5%AD%E9%A1%9E%E5%88%A5%7C%7C%E8%88%AA%E9%81%8B%E6%A5%AD&FL_RULE_CHK1=T&FL_RULE2=%E7%94%A2%E6%A5%AD%E9%A1%9E%E5%88%A5%7C%7C%E9%8A%80%E8%A1%8C%E6%A5%AD&FL_RULE_CHK2=T&FL_RULE3=%E7%94%A2%E6%A5%AD%E9%A1%9E%E5%88%A5%7C%7C%E4%BF%9D%E9%9A%AA%E6%A5%AD&FL_RULE_CHK3=T&FL_RULE4=%E7%94%A2%E6%A5%AD%E9%A1%9E%E5%88%A5%7C%7C%E9%87%91%E6%8E%A7%E6%A5%AD&FL_RULE_CHK4=T&FL_RULE5=&FL_RANK0=&FL_RANK1=&FL_RANK2=&FL_RANK3=&FL_RANK4=&FL_RANK5=&FL_FD0=&FL_FD1=&FL_FD2=&FL_FD3=&FL_FD4=&FL_FD5=&FL_SHEET=%E4%BA%A4%E6%98%93%E7%8B%80%E6%B3%81&FL_SHEET2=%E6%97%A5&FL_MARKET=%E4%B8%8A%E5%B8%82%2F%E4%B8%8A%E6%AB%83&FL_QRY=%E6%9F%A5++%E8%A9%A2\"\n",
    "url_short011 = \"https://goodinfo.tw/tw2/StockList.asp?MARKET_CAT=%E8%87%AA%E8%A8%82%E7%AF%A9%E9%81%B8&INDUSTRY_CAT=%E6%88%91%E7%9A%84%E6%A2%9D%E4%BB%B6&FL_ITEM0=%E5%96%AE%E6%9C%88%E7%87%9F%E6%94%B6%E5%B9%B4%E5%A2%9E%E6%B8%9B%E7%8E%87%28%25%29&FL_VAL_S0=&FL_VAL_E0=0&FL_ITEM1=%E5%96%AE%E5%AD%A3%E2%80%93%E6%AF%9B%E5%88%A9%E7%8E%87%E5%B9%B4%E5%A2%9E%E6%B8%9B%E6%95%B8&FL_VAL_S1=0&FL_VAL_E1=&FL_ITEM2=%E5%96%AE%E5%AD%A3%E2%80%93%E7%87%9F%E6%A5%AD%E5%88%A9%E7%9B%8A%E7%8E%87%E5%B9%B4%E5%A2%9E%E6%B8%9B%E6%95%B8&FL_VAL_S2=0&FL_VAL_E2=&FL_ITEM3=&FL_VAL_S3=&FL_VAL_E3=&FL_ITEM4=&FL_VAL_S4=&FL_VAL_E4=&FL_ITEM5=&FL_VAL_S5=&FL_VAL_E5=&FL_ITEM6=&FL_VAL_S6=&FL_VAL_E6=&FL_ITEM7=&FL_VAL_S7=&FL_VAL_E7=&FL_ITEM8=&FL_VAL_S8=&FL_VAL_E8=&FL_ITEM9=&FL_VAL_S9=&FL_VAL_E9=&FL_ITEM10=&FL_VAL_S10=&FL_VAL_E10=&FL_ITEM11=&FL_VAL_S11=&FL_VAL_E11=&FL_RULE0=&FL_RULE1=&FL_RULE2=&FL_RULE3=&FL_RULE4=&FL_RULE5=&FL_RANK0=&FL_RANK1=&FL_RANK2=&FL_RANK3=&FL_RANK4=&FL_RANK5=&FL_FD0=&FL_FD1=&FL_FD2=&FL_FD3=&FL_FD4=&FL_FD5=&FL_SHEET=%E8%87%AA%E8%A8%82%E6%AC%84%E4%BD%8D_%E8%A7%80%E5%AF%9F&FL_SHEET2=&FL_MARKET=%E4%B8%8A%E5%B8%82%2F%E4%B8%8A%E6%AB%83&FL_QRY=%E6%9F%A5++%E8%A9%A2\"\n",
    "# \"https://goodinfo.tw/tw2/StockList.asp?MARKET_CAT=%E8%87%AA%E8%A8%82%E7%AF%A9%E9%81%B8&INDUSTRY_CAT=%E6%88%91%E7%9A%84%E6%A2%9D%E4%BB%B6&FL_ITEM0=%E5%96%AE%E5%AD%A3%E2%80%93%E6%AF%9B%E5%88%A9%E7%8E%87%E5%B9%B4%E5%A2%9E%E6%B8%9B%E6%95%B8&FL_VAL_S0=&FL_VAL_E0=0&FL_ITEM1=%E5%96%AE%E5%AD%A3%E2%80%93%E7%87%9F%E6%A5%AD%E5%88%A9%E7%9B%8A%E7%8E%87%E5%B9%B4%E5%A2%9E%E6%B8%9B%E6%95%B8&FL_VAL_S1=&FL_VAL_E1=0&FL_ITEM2=%E5%96%AE%E6%9C%88%E7%87%9F%E6%94%B6%E5%B9%B4%E5%A2%9E%E6%B8%9B%E7%8E%87%28%25%29&FL_VAL_S2=&FL_VAL_E2=0&FL_ITEM3=%E6%9C%AC%E7%9B%8A%E6%AF%94+%28PER%29&FL_VAL_S3=30&FL_VAL_E3=&FL_ITEM4=%E6%B3%95%E4%BA%BA%E9%80%A3%E8%B3%A3%E6%97%A5%E6%95%B8%E2%80%93%E5%A4%96%E8%B3%87&FL_VAL_S4=3&FL_VAL_E4=&FL_ITEM5=&FL_VAL_S5=&FL_VAL_E5=&FL_ITEM6=&FL_VAL_S6=&FL_VAL_E6=&FL_ITEM7=&FL_VAL_S7=&FL_VAL_E7=&FL_ITEM8=&FL_VAL_S8=&FL_VAL_E8=&FL_ITEM9=&FL_VAL_S9=&FL_VAL_E9=&FL_ITEM10=&FL_VAL_S10=&FL_VAL_E10=&FL_ITEM11=&FL_VAL_S11=&FL_VAL_E11=&FL_RULE0=%E7%94%A2%E6%A5%AD%E9%A1%9E%E5%88%A5%7C%7C%E7%94%9F%E6%8A%80%E9%86%AB%E7%99%82%E6%A5%AD&FL_RULE_CHK0=T&FL_RULE1=%E7%94%A2%E6%A5%AD%E9%A1%9E%E5%88%A5%7C%7C%E8%88%AA%E9%81%8B%E6%A5%AD&FL_RULE_CHK1=T&FL_RULE2=%E7%94%A2%E6%A5%AD%E9%A1%9E%E5%88%A5%7C%7C%E9%8A%80%E8%A1%8C%E6%A5%AD&FL_RULE_CHK2=T&FL_RULE3=%E7%94%A2%E6%A5%AD%E9%A1%9E%E5%88%A5%7C%7C%E4%BF%9D%E9%9A%AA%E6%A5%AD&FL_RULE_CHK3=T&FL_RULE4=%E7%94%A2%E6%A5%AD%E9%A1%9E%E5%88%A5%7C%7C%E9%87%91%E6%8E%A7%E6%A5%AD&FL_RULE_CHK4=T&FL_RULE5=&FL_RANK0=&FL_RANK1=&FL_RANK2=&FL_RANK3=&FL_RANK4=&FL_RANK5=&FL_FD0=&FL_FD1=&FL_FD2=&FL_FD3=&FL_FD4=&FL_FD5=&FL_SHEET=%E4%BA%A4%E6%98%93%E7%8B%80%E6%B3%81&FL_SHEET2=%E6%97%A5&FL_MARKET=%E4%B8%8A%E5%B8%82%2F%E4%B8%8A%E6%AB%83&FL_QRY=%E6%9F%A5++%E8%A9%A2\"\n",
    "url_short101 = \"https://goodinfo.tw/tw2/StockList.asp?MARKET_CAT=%E8%87%AA%E8%A8%82%E7%AF%A9%E9%81%B8&INDUSTRY_CAT=%E6%88%91%E7%9A%84%E6%A2%9D%E4%BB%B6&FL_ITEM0=%E5%96%AE%E6%9C%88%E7%87%9F%E6%94%B6%E5%B9%B4%E5%A2%9E%E6%B8%9B%E7%8E%87%28%25%29&FL_VAL_S0=0&FL_VAL_E0=&FL_ITEM1=%E5%96%AE%E5%AD%A3%E2%80%93%E6%AF%9B%E5%88%A9%E7%8E%87%E5%B9%B4%E5%A2%9E%E6%B8%9B%E6%95%B8&FL_VAL_S1=&FL_VAL_E1=0&FL_ITEM2=%E5%96%AE%E5%AD%A3%E2%80%93%E7%87%9F%E6%A5%AD%E5%88%A9%E7%9B%8A%E7%8E%87%E5%B9%B4%E5%A2%9E%E6%B8%9B%E6%95%B8&FL_VAL_S2=0&FL_VAL_E2=&FL_ITEM3=&FL_VAL_S3=&FL_VAL_E3=&FL_ITEM4=&FL_VAL_S4=&FL_VAL_E4=&FL_ITEM5=&FL_VAL_S5=&FL_VAL_E5=&FL_ITEM6=&FL_VAL_S6=&FL_VAL_E6=&FL_ITEM7=&FL_VAL_S7=&FL_VAL_E7=&FL_ITEM8=&FL_VAL_S8=&FL_VAL_E8=&FL_ITEM9=&FL_VAL_S9=&FL_VAL_E9=&FL_ITEM10=&FL_VAL_S10=&FL_VAL_E10=&FL_ITEM11=&FL_VAL_S11=&FL_VAL_E11=&FL_RULE0=&FL_RULE1=&FL_RULE2=&FL_RULE3=&FL_RULE4=&FL_RULE5=&FL_RANK0=&FL_RANK1=&FL_RANK2=&FL_RANK3=&FL_RANK4=&FL_RANK5=&FL_FD0=&FL_FD1=&FL_FD2=&FL_FD3=&FL_FD4=&FL_FD5=&FL_SHEET=%E8%87%AA%E8%A8%82%E6%AC%84%E4%BD%8D_%E8%A7%80%E5%AF%9F&FL_SHEET2=&FL_MARKET=%E4%B8%8A%E5%B8%82%2F%E4%B8%8A%E6%AB%83&FL_QRY=%E6%9F%A5++%E8%A9%A2\"\n",
    "# \"https://goodinfo.tw/tw2/StockList.asp?MARKET_CAT=%E8%87%AA%E8%A8%82%E7%AF%A9%E9%81%B8&INDUSTRY_CAT=%E6%88%91%E7%9A%84%E6%A2%9D%E4%BB%B6&FL_ITEM0=%E5%96%AE%E5%AD%A3%E2%80%93%E6%AF%9B%E5%88%A9%E7%8E%87%E5%B9%B4%E5%A2%9E%E6%B8%9B%E6%95%B8&FL_VAL_S0=&FL_VAL_E0=0&FL_ITEM1=%E5%96%AE%E5%AD%A3%E2%80%93%E7%87%9F%E6%A5%AD%E5%88%A9%E7%9B%8A%E7%8E%87%E5%B9%B4%E5%A2%9E%E6%B8%9B%E6%95%B8&FL_VAL_S1=0&FL_VAL_E1=&FL_ITEM2=%E5%96%AE%E6%9C%88%E7%87%9F%E6%94%B6%E5%B9%B4%E5%A2%9E%E6%B8%9B%E7%8E%87%28%25%29&FL_VAL_S2=0&FL_VAL_E2=&FL_ITEM3=%E6%9C%AC%E7%9B%8A%E6%AF%94+%28PER%29&FL_VAL_S3=30&FL_VAL_E3=&FL_ITEM4=%E6%B3%95%E4%BA%BA%E9%80%A3%E8%B3%A3%E6%97%A5%E6%95%B8%E2%80%93%E5%A4%96%E8%B3%87&FL_VAL_S4=3&FL_VAL_E4=&FL_ITEM5=&FL_VAL_S5=&FL_VAL_E5=&FL_ITEM6=&FL_VAL_S6=&FL_VAL_E6=&FL_ITEM7=&FL_VAL_S7=&FL_VAL_E7=&FL_ITEM8=&FL_VAL_S8=&FL_VAL_E8=&FL_ITEM9=&FL_VAL_S9=&FL_VAL_E9=&FL_ITEM10=&FL_VAL_S10=&FL_VAL_E10=&FL_ITEM11=&FL_VAL_S11=&FL_VAL_E11=&FL_RULE0=%E7%94%A2%E6%A5%AD%E9%A1%9E%E5%88%A5%7C%7C%E7%94%9F%E6%8A%80%E9%86%AB%E7%99%82%E6%A5%AD&FL_RULE_CHK0=T&FL_RULE1=%E7%94%A2%E6%A5%AD%E9%A1%9E%E5%88%A5%7C%7C%E8%88%AA%E9%81%8B%E6%A5%AD&FL_RULE_CHK1=T&FL_RULE2=%E7%94%A2%E6%A5%AD%E9%A1%9E%E5%88%A5%7C%7C%E9%8A%80%E8%A1%8C%E6%A5%AD&FL_RULE_CHK2=T&FL_RULE3=%E7%94%A2%E6%A5%AD%E9%A1%9E%E5%88%A5%7C%7C%E4%BF%9D%E9%9A%AA%E6%A5%AD&FL_RULE_CHK3=T&FL_RULE4=%E7%94%A2%E6%A5%AD%E9%A1%9E%E5%88%A5%7C%7C%E9%87%91%E6%8E%A7%E6%A5%AD&FL_RULE_CHK4=T&FL_RULE5=&FL_RANK0=&FL_RANK1=&FL_RANK2=&FL_RANK3=&FL_RANK4=&FL_RANK5=&FL_FD0=&FL_FD1=&FL_FD2=&FL_FD3=&FL_FD4=&FL_FD5=&FL_SHEET=%E4%BA%A4%E6%98%93%E7%8B%80%E6%B3%81&FL_SHEET2=%E6%97%A5&FL_MARKET=%E4%B8%8A%E5%B8%82%2F%E4%B8%8A%E6%AB%83&FL_QRY=%E6%9F%A5++%E8%A9%A2\"\n",
    "url_short110 = \"https://goodinfo.tw/tw2/StockList.asp?MARKET_CAT=%E8%87%AA%E8%A8%82%E7%AF%A9%E9%81%B8&INDUSTRY_CAT=%E6%88%91%E7%9A%84%E6%A2%9D%E4%BB%B6&FL_ITEM0=%E5%96%AE%E6%9C%88%E7%87%9F%E6%94%B6%E5%B9%B4%E5%A2%9E%E6%B8%9B%E7%8E%87%28%25%29&FL_VAL_S0=0&FL_VAL_E0=&FL_ITEM1=%E5%96%AE%E5%AD%A3%E2%80%93%E6%AF%9B%E5%88%A9%E7%8E%87%E5%B9%B4%E5%A2%9E%E6%B8%9B%E6%95%B8&FL_VAL_S1=0&FL_VAL_E1=&FL_ITEM2=%E5%96%AE%E5%AD%A3%E2%80%93%E7%87%9F%E6%A5%AD%E5%88%A9%E7%9B%8A%E7%8E%87%E5%B9%B4%E5%A2%9E%E6%B8%9B%E6%95%B8&FL_VAL_S2=&FL_VAL_E2=0&FL_ITEM3=&FL_VAL_S3=&FL_VAL_E3=&FL_ITEM4=&FL_VAL_S4=&FL_VAL_E4=&FL_ITEM5=&FL_VAL_S5=&FL_VAL_E5=&FL_ITEM6=&FL_VAL_S6=&FL_VAL_E6=&FL_ITEM7=&FL_VAL_S7=&FL_VAL_E7=&FL_ITEM8=&FL_VAL_S8=&FL_VAL_E8=&FL_ITEM9=&FL_VAL_S9=&FL_VAL_E9=&FL_ITEM10=&FL_VAL_S10=&FL_VAL_E10=&FL_ITEM11=&FL_VAL_S11=&FL_VAL_E11=&FL_RULE0=&FL_RULE1=&FL_RULE2=&FL_RULE3=&FL_RULE4=&FL_RULE5=&FL_RANK0=&FL_RANK1=&FL_RANK2=&FL_RANK3=&FL_RANK4=&FL_RANK5=&FL_FD0=&FL_FD1=&FL_FD2=&FL_FD3=&FL_FD4=&FL_FD5=&FL_SHEET=%E8%87%AA%E8%A8%82%E6%AC%84%E4%BD%8D_%E8%A7%80%E5%AF%9F&FL_SHEET2=&FL_MARKET=%E4%B8%8A%E5%B8%82%2F%E4%B8%8A%E6%AB%83&FL_QRY=%E6%9F%A5++%E8%A9%A2\"\n",
    "# \"https://goodinfo.tw/tw2/StockList.asp?MARKET_CAT=%E8%87%AA%E8%A8%82%E7%AF%A9%E9%81%B8&INDUSTRY_CAT=%E6%88%91%E7%9A%84%E6%A2%9D%E4%BB%B6&FL_ITEM0=%E5%96%AE%E5%AD%A3%E2%80%93%E6%AF%9B%E5%88%A9%E7%8E%87%E5%B9%B4%E5%A2%9E%E6%B8%9B%E6%95%B8&FL_VAL_S0=0&FL_VAL_E0=&FL_ITEM1=%E5%96%AE%E5%AD%A3%E2%80%93%E7%87%9F%E6%A5%AD%E5%88%A9%E7%9B%8A%E7%8E%87%E5%B9%B4%E5%A2%9E%E6%B8%9B%E6%95%B8&FL_VAL_S1=&FL_VAL_E1=0&FL_ITEM2=%E5%96%AE%E6%9C%88%E7%87%9F%E6%94%B6%E5%B9%B4%E5%A2%9E%E6%B8%9B%E7%8E%87%28%25%29&FL_VAL_S2=0&FL_VAL_E2=&FL_ITEM3=%E6%9C%AC%E7%9B%8A%E6%AF%94+%28PER%29&FL_VAL_S3=30&FL_VAL_E3=&FL_ITEM4=%E6%B3%95%E4%BA%BA%E9%80%A3%E8%B3%A3%E6%97%A5%E6%95%B8%E2%80%93%E5%A4%96%E8%B3%87&FL_VAL_S4=3&FL_VAL_E4=&FL_ITEM5=&FL_VAL_S5=&FL_VAL_E5=&FL_ITEM6=&FL_VAL_S6=&FL_VAL_E6=&FL_ITEM7=&FL_VAL_S7=&FL_VAL_E7=&FL_ITEM8=&FL_VAL_S8=&FL_VAL_E8=&FL_ITEM9=&FL_VAL_S9=&FL_VAL_E9=&FL_ITEM10=&FL_VAL_S10=&FL_VAL_E10=&FL_ITEM11=&FL_VAL_S11=&FL_VAL_E11=&FL_RULE0=%E7%94%A2%E6%A5%AD%E9%A1%9E%E5%88%A5%7C%7C%E7%94%9F%E6%8A%80%E9%86%AB%E7%99%82%E6%A5%AD&FL_RULE_CHK0=T&FL_RULE1=%E7%94%A2%E6%A5%AD%E9%A1%9E%E5%88%A5%7C%7C%E8%88%AA%E9%81%8B%E6%A5%AD&FL_RULE_CHK1=T&FL_RULE2=%E7%94%A2%E6%A5%AD%E9%A1%9E%E5%88%A5%7C%7C%E9%8A%80%E8%A1%8C%E6%A5%AD&FL_RULE_CHK2=T&FL_RULE3=%E7%94%A2%E6%A5%AD%E9%A1%9E%E5%88%A5%7C%7C%E4%BF%9D%E9%9A%AA%E6%A5%AD&FL_RULE_CHK3=T&FL_RULE4=%E7%94%A2%E6%A5%AD%E9%A1%9E%E5%88%A5%7C%7C%E9%87%91%E6%8E%A7%E6%A5%AD&FL_RULE_CHK4=T&FL_RULE5=&FL_RANK0=&FL_RANK1=&FL_RANK2=&FL_RANK3=&FL_RANK4=&FL_RANK5=&FL_FD0=&FL_FD1=&FL_FD2=&FL_FD3=&FL_FD4=&FL_FD5=&FL_SHEET=%E4%BA%A4%E6%98%93%E7%8B%80%E6%B3%81&FL_SHEET2=%E6%97%A5&FL_MARKET=%E4%B8%8A%E5%B8%82%2F%E4%B8%8A%E6%AB%83&FL_QRY=%E6%9F%A5++%E8%A9%A2\"\n",
    "url_short100 = \"https://goodinfo.tw/tw2/StockList.asp?MARKET_CAT=%E8%87%AA%E8%A8%82%E7%AF%A9%E9%81%B8&INDUSTRY_CAT=%E6%88%91%E7%9A%84%E6%A2%9D%E4%BB%B6&FL_ITEM0=%E5%96%AE%E6%9C%88%E7%87%9F%E6%94%B6%E5%B9%B4%E5%A2%9E%E6%B8%9B%E7%8E%87%28%25%29&FL_VAL_S0=0&FL_VAL_E0=&FL_ITEM1=%E5%96%AE%E5%AD%A3%E2%80%93%E6%AF%9B%E5%88%A9%E7%8E%87%E5%B9%B4%E5%A2%9E%E6%B8%9B%E6%95%B8&FL_VAL_S1=&FL_VAL_E1=0&FL_ITEM2=%E5%96%AE%E5%AD%A3%E2%80%93%E7%87%9F%E6%A5%AD%E5%88%A9%E7%9B%8A%E7%8E%87%E5%B9%B4%E5%A2%9E%E6%B8%9B%E6%95%B8&FL_VAL_S2=&FL_VAL_E2=0&FL_ITEM3=&FL_VAL_S3=&FL_VAL_E3=&FL_ITEM4=&FL_VAL_S4=&FL_VAL_E4=&FL_ITEM5=&FL_VAL_S5=&FL_VAL_E5=&FL_ITEM6=&FL_VAL_S6=&FL_VAL_E6=&FL_ITEM7=&FL_VAL_S7=&FL_VAL_E7=&FL_ITEM8=&FL_VAL_S8=&FL_VAL_E8=&FL_ITEM9=&FL_VAL_S9=&FL_VAL_E9=&FL_ITEM10=&FL_VAL_S10=&FL_VAL_E10=&FL_ITEM11=&FL_VAL_S11=&FL_VAL_E11=&FL_RULE0=&FL_RULE1=&FL_RULE2=&FL_RULE3=&FL_RULE4=&FL_RULE5=&FL_RANK0=&FL_RANK1=&FL_RANK2=&FL_RANK3=&FL_RANK4=&FL_RANK5=&FL_FD0=&FL_FD1=&FL_FD2=&FL_FD3=&FL_FD4=&FL_FD5=&FL_SHEET=%E8%87%AA%E8%A8%82%E6%AC%84%E4%BD%8D_%E8%A7%80%E5%AF%9F&FL_SHEET2=&FL_MARKET=%E4%B8%8A%E5%B8%82%2F%E4%B8%8A%E6%AB%83&FL_QRY=%E6%9F%A5++%E8%A9%A2\"\n",
    "# \"https://goodinfo.tw/tw2/StockList.asp?MARKET_CAT=%E8%87%AA%E8%A8%82%E7%AF%A9%E9%81%B8&INDUSTRY_CAT=%E6%88%91%E7%9A%84%E6%A2%9D%E4%BB%B6&FL_ITEM0=%E5%96%AE%E5%AD%A3%E2%80%93%E6%AF%9B%E5%88%A9%E7%8E%87%E5%B9%B4%E5%A2%9E%E6%B8%9B%E6%95%B8&FL_VAL_S0=&FL_VAL_E0=0&FL_ITEM1=%E5%96%AE%E5%AD%A3%E2%80%93%E7%87%9F%E6%A5%AD%E5%88%A9%E7%9B%8A%E7%8E%87%E5%B9%B4%E5%A2%9E%E6%B8%9B%E6%95%B8&FL_VAL_S1=&FL_VAL_E1=0&FL_ITEM2=%E5%96%AE%E6%9C%88%E7%87%9F%E6%94%B6%E5%B9%B4%E5%A2%9E%E6%B8%9B%E7%8E%87%28%25%29&FL_VAL_S2=0&FL_VAL_E2=&FL_ITEM3=%E6%9C%AC%E7%9B%8A%E6%AF%94+%28PER%29&FL_VAL_S3=30&FL_VAL_E3=&FL_ITEM4=%E6%B3%95%E4%BA%BA%E9%80%A3%E8%B3%A3%E6%97%A5%E6%95%B8%E2%80%93%E5%A4%96%E8%B3%87&FL_VAL_S4=3&FL_VAL_E4=&FL_ITEM5=&FL_VAL_S5=&FL_VAL_E5=&FL_ITEM6=&FL_VAL_S6=&FL_VAL_E6=&FL_ITEM7=&FL_VAL_S7=&FL_VAL_E7=&FL_ITEM8=&FL_VAL_S8=&FL_VAL_E8=&FL_ITEM9=&FL_VAL_S9=&FL_VAL_E9=&FL_ITEM10=&FL_VAL_S10=&FL_VAL_E10=&FL_ITEM11=&FL_VAL_S11=&FL_VAL_E11=&FL_RULE0=%E7%94%A2%E6%A5%AD%E9%A1%9E%E5%88%A5%7C%7C%E7%94%9F%E6%8A%80%E9%86%AB%E7%99%82%E6%A5%AD&FL_RULE_CHK0=T&FL_RULE1=%E7%94%A2%E6%A5%AD%E9%A1%9E%E5%88%A5%7C%7C%E8%88%AA%E9%81%8B%E6%A5%AD&FL_RULE_CHK1=T&FL_RULE2=%E7%94%A2%E6%A5%AD%E9%A1%9E%E5%88%A5%7C%7C%E9%8A%80%E8%A1%8C%E6%A5%AD&FL_RULE_CHK2=T&FL_RULE3=%E7%94%A2%E6%A5%AD%E9%A1%9E%E5%88%A5%7C%7C%E4%BF%9D%E9%9A%AA%E6%A5%AD&FL_RULE_CHK3=T&FL_RULE4=%E7%94%A2%E6%A5%AD%E9%A1%9E%E5%88%A5%7C%7C%E9%87%91%E6%8E%A7%E6%A5%AD&FL_RULE_CHK4=T&FL_RULE5=&FL_RANK0=&FL_RANK1=&FL_RANK2=&FL_RANK3=&FL_RANK4=&FL_RANK5=&FL_FD0=&FL_FD1=&FL_FD2=&FL_FD3=&FL_FD4=&FL_FD5=&FL_SHEET=%E4%BA%A4%E6%98%93%E7%8B%80%E6%B3%81&FL_SHEET2=%E6%97%A5&FL_MARKET=%E4%B8%8A%E5%B8%82%2F%E4%B8%8A%E6%AB%83&FL_QRY=%E6%9F%A5++%E8%A9%A2\"\n",
    "url_short010 = \"https://goodinfo.tw/tw2/StockList.asp?MARKET_CAT=%E8%87%AA%E8%A8%82%E7%AF%A9%E9%81%B8&INDUSTRY_CAT=%E6%88%91%E7%9A%84%E6%A2%9D%E4%BB%B6&FL_ITEM0=%E5%96%AE%E6%9C%88%E7%87%9F%E6%94%B6%E5%B9%B4%E5%A2%9E%E6%B8%9B%E7%8E%87%28%25%29&FL_VAL_S0=&FL_VAL_E0=0&FL_ITEM1=%E5%96%AE%E5%AD%A3%E2%80%93%E6%AF%9B%E5%88%A9%E7%8E%87%E5%B9%B4%E5%A2%9E%E6%B8%9B%E6%95%B8&FL_VAL_S1=0&FL_VAL_E1=&FL_ITEM2=%E5%96%AE%E5%AD%A3%E2%80%93%E7%87%9F%E6%A5%AD%E5%88%A9%E7%9B%8A%E7%8E%87%E5%B9%B4%E5%A2%9E%E6%B8%9B%E6%95%B8&FL_VAL_S2=&FL_VAL_E2=0&FL_ITEM3=&FL_VAL_S3=&FL_VAL_E3=&FL_ITEM4=&FL_VAL_S4=&FL_VAL_E4=&FL_ITEM5=&FL_VAL_S5=&FL_VAL_E5=&FL_ITEM6=&FL_VAL_S6=&FL_VAL_E6=&FL_ITEM7=&FL_VAL_S7=&FL_VAL_E7=&FL_ITEM8=&FL_VAL_S8=&FL_VAL_E8=&FL_ITEM9=&FL_VAL_S9=&FL_VAL_E9=&FL_ITEM10=&FL_VAL_S10=&FL_VAL_E10=&FL_ITEM11=&FL_VAL_S11=&FL_VAL_E11=&FL_RULE0=&FL_RULE1=&FL_RULE2=&FL_RULE3=&FL_RULE4=&FL_RULE5=&FL_RANK0=&FL_RANK1=&FL_RANK2=&FL_RANK3=&FL_RANK4=&FL_RANK5=&FL_FD0=&FL_FD1=&FL_FD2=&FL_FD3=&FL_FD4=&FL_FD5=&FL_SHEET=%E8%87%AA%E8%A8%82%E6%AC%84%E4%BD%8D_%E8%A7%80%E5%AF%9F&FL_SHEET2=&FL_MARKET=%E4%B8%8A%E5%B8%82%2F%E4%B8%8A%E6%AB%83&FL_QRY=%E6%9F%A5++%E8%A9%A2\"\n",
    "# \"https://goodinfo.tw/tw2/StockList.asp?MARKET_CAT=%E8%87%AA%E8%A8%82%E7%AF%A9%E9%81%B8&INDUSTRY_CAT=%E6%88%91%E7%9A%84%E6%A2%9D%E4%BB%B6&FL_ITEM0=%E5%96%AE%E5%AD%A3%E2%80%93%E6%AF%9B%E5%88%A9%E7%8E%87%E5%B9%B4%E5%A2%9E%E6%B8%9B%E6%95%B8&FL_VAL_S0=0&FL_VAL_E0=&FL_ITEM1=%E5%96%AE%E5%AD%A3%E2%80%93%E7%87%9F%E6%A5%AD%E5%88%A9%E7%9B%8A%E7%8E%87%E5%B9%B4%E5%A2%9E%E6%B8%9B%E6%95%B8&FL_VAL_S1=&FL_VAL_E1=0&FL_ITEM2=%E5%96%AE%E6%9C%88%E7%87%9F%E6%94%B6%E5%B9%B4%E5%A2%9E%E6%B8%9B%E7%8E%87%28%25%29&FL_VAL_S2=&FL_VAL_E2=0&FL_ITEM3=%E6%9C%AC%E7%9B%8A%E6%AF%94+%28PER%29&FL_VAL_S3=30&FL_VAL_E3=&FL_ITEM4=%E6%B3%95%E4%BA%BA%E9%80%A3%E8%B3%A3%E6%97%A5%E6%95%B8%E2%80%93%E5%A4%96%E8%B3%87&FL_VAL_S4=3&FL_VAL_E4=&FL_ITEM5=&FL_VAL_S5=&FL_VAL_E5=&FL_ITEM6=&FL_VAL_S6=&FL_VAL_E6=&FL_ITEM7=&FL_VAL_S7=&FL_VAL_E7=&FL_ITEM8=&FL_VAL_S8=&FL_VAL_E8=&FL_ITEM9=&FL_VAL_S9=&FL_VAL_E9=&FL_ITEM10=&FL_VAL_S10=&FL_VAL_E10=&FL_ITEM11=&FL_VAL_S11=&FL_VAL_E11=&FL_RULE0=%E7%94%A2%E6%A5%AD%E9%A1%9E%E5%88%A5%7C%7C%E7%94%9F%E6%8A%80%E9%86%AB%E7%99%82%E6%A5%AD&FL_RULE_CHK0=T&FL_RULE1=%E7%94%A2%E6%A5%AD%E9%A1%9E%E5%88%A5%7C%7C%E8%88%AA%E9%81%8B%E6%A5%AD&FL_RULE_CHK1=T&FL_RULE2=%E7%94%A2%E6%A5%AD%E9%A1%9E%E5%88%A5%7C%7C%E9%8A%80%E8%A1%8C%E6%A5%AD&FL_RULE_CHK2=T&FL_RULE3=%E7%94%A2%E6%A5%AD%E9%A1%9E%E5%88%A5%7C%7C%E4%BF%9D%E9%9A%AA%E6%A5%AD&FL_RULE_CHK3=T&FL_RULE4=%E7%94%A2%E6%A5%AD%E9%A1%9E%E5%88%A5%7C%7C%E9%87%91%E6%8E%A7%E6%A5%AD&FL_RULE_CHK4=T&FL_RULE5=&FL_RANK0=&FL_RANK1=&FL_RANK2=&FL_RANK3=&FL_RANK4=&FL_RANK5=&FL_FD0=&FL_FD1=&FL_FD2=&FL_FD3=&FL_FD4=&FL_FD5=&FL_SHEET=%E4%BA%A4%E6%98%93%E7%8B%80%E6%B3%81&FL_SHEET2=%E6%97%A5&FL_MARKET=%E4%B8%8A%E5%B8%82%2F%E4%B8%8A%E6%AB%83&FL_QRY=%E6%9F%A5++%E8%A9%A2\"\n",
    "url_short001 = \"https://goodinfo.tw/tw2/StockList.asp?MARKET_CAT=%E8%87%AA%E8%A8%82%E7%AF%A9%E9%81%B8&INDUSTRY_CAT=%E6%88%91%E7%9A%84%E6%A2%9D%E4%BB%B6&FL_ITEM0=%E5%96%AE%E6%9C%88%E7%87%9F%E6%94%B6%E5%B9%B4%E5%A2%9E%E6%B8%9B%E7%8E%87%28%25%29&FL_VAL_S0=&FL_VAL_E0=0&FL_ITEM1=%E5%96%AE%E5%AD%A3%E2%80%93%E6%AF%9B%E5%88%A9%E7%8E%87%E5%B9%B4%E5%A2%9E%E6%B8%9B%E6%95%B8&FL_VAL_S1=&FL_VAL_E1=0&FL_ITEM2=%E5%96%AE%E5%AD%A3%E2%80%93%E7%87%9F%E6%A5%AD%E5%88%A9%E7%9B%8A%E7%8E%87%E5%B9%B4%E5%A2%9E%E6%B8%9B%E6%95%B8&FL_VAL_S2=0&FL_VAL_E2=&FL_ITEM3=&FL_VAL_S3=&FL_VAL_E3=&FL_ITEM4=&FL_VAL_S4=&FL_VAL_E4=&FL_ITEM5=&FL_VAL_S5=&FL_VAL_E5=&FL_ITEM6=&FL_VAL_S6=&FL_VAL_E6=&FL_ITEM7=&FL_VAL_S7=&FL_VAL_E7=&FL_ITEM8=&FL_VAL_S8=&FL_VAL_E8=&FL_ITEM9=&FL_VAL_S9=&FL_VAL_E9=&FL_ITEM10=&FL_VAL_S10=&FL_VAL_E10=&FL_ITEM11=&FL_VAL_S11=&FL_VAL_E11=&FL_RULE0=&FL_RULE1=&FL_RULE2=&FL_RULE3=&FL_RULE4=&FL_RULE5=&FL_RANK0=&FL_RANK1=&FL_RANK2=&FL_RANK3=&FL_RANK4=&FL_RANK5=&FL_FD0=&FL_FD1=&FL_FD2=&FL_FD3=&FL_FD4=&FL_FD5=&FL_SHEET=%E8%87%AA%E8%A8%82%E6%AC%84%E4%BD%8D_%E8%A7%80%E5%AF%9F&FL_SHEET2=&FL_MARKET=%E4%B8%8A%E5%B8%82%2F%E4%B8%8A%E6%AB%83&FL_QRY=%E6%9F%A5++%E8%A9%A2\"\n",
    "# \"https://goodinfo.tw/tw2/StockList.asp?MARKET_CAT=%E8%87%AA%E8%A8%82%E7%AF%A9%E9%81%B8&INDUSTRY_CAT=%E6%88%91%E7%9A%84%E6%A2%9D%E4%BB%B6&FL_ITEM0=%E5%96%AE%E5%AD%A3%E2%80%93%E6%AF%9B%E5%88%A9%E7%8E%87%E5%B9%B4%E5%A2%9E%E6%B8%9B%E6%95%B8&FL_VAL_S0=&FL_VAL_E0=0&FL_ITEM1=%E5%96%AE%E5%AD%A3%E2%80%93%E7%87%9F%E6%A5%AD%E5%88%A9%E7%9B%8A%E7%8E%87%E5%B9%B4%E5%A2%9E%E6%B8%9B%E6%95%B8&FL_VAL_S1=0&FL_VAL_E1=&FL_ITEM2=%E5%96%AE%E6%9C%88%E7%87%9F%E6%94%B6%E5%B9%B4%E5%A2%9E%E6%B8%9B%E7%8E%87%28%25%29&FL_VAL_S2=&FL_VAL_E2=0&FL_ITEM3=%E6%9C%AC%E7%9B%8A%E6%AF%94+%28PER%29&FL_VAL_S3=30&FL_VAL_E3=&FL_ITEM4=%E6%B3%95%E4%BA%BA%E9%80%A3%E8%B3%A3%E6%97%A5%E6%95%B8%E2%80%93%E5%A4%96%E8%B3%87&FL_VAL_S4=3&FL_VAL_E4=&FL_ITEM5=&FL_VAL_S5=&FL_VAL_E5=&FL_ITEM6=&FL_VAL_S6=&FL_VAL_E6=&FL_ITEM7=&FL_VAL_S7=&FL_VAL_E7=&FL_ITEM8=&FL_VAL_S8=&FL_VAL_E8=&FL_ITEM9=&FL_VAL_S9=&FL_VAL_E9=&FL_ITEM10=&FL_VAL_S10=&FL_VAL_E10=&FL_ITEM11=&FL_VAL_S11=&FL_VAL_E11=&FL_RULE0=%E7%94%A2%E6%A5%AD%E9%A1%9E%E5%88%A5%7C%7C%E7%94%9F%E6%8A%80%E9%86%AB%E7%99%82%E6%A5%AD&FL_RULE_CHK0=T&FL_RULE1=%E7%94%A2%E6%A5%AD%E9%A1%9E%E5%88%A5%7C%7C%E8%88%AA%E9%81%8B%E6%A5%AD&FL_RULE_CHK1=T&FL_RULE2=%E7%94%A2%E6%A5%AD%E9%A1%9E%E5%88%A5%7C%7C%E9%8A%80%E8%A1%8C%E6%A5%AD&FL_RULE_CHK2=T&FL_RULE3=%E7%94%A2%E6%A5%AD%E9%A1%9E%E5%88%A5%7C%7C%E4%BF%9D%E9%9A%AA%E6%A5%AD&FL_RULE_CHK3=T&FL_RULE4=%E7%94%A2%E6%A5%AD%E9%A1%9E%E5%88%A5%7C%7C%E9%87%91%E6%8E%A7%E6%A5%AD&FL_RULE_CHK4=T&FL_RULE5=&FL_RANK0=&FL_RANK1=&FL_RANK2=&FL_RANK3=&FL_RANK4=&FL_RANK5=&FL_FD0=&FL_FD1=&FL_FD2=&FL_FD3=&FL_FD4=&FL_FD5=&FL_SHEET=%E4%BA%A4%E6%98%93%E7%8B%80%E6%B3%81&FL_SHEET2=%E6%97%A5&FL_MARKET=%E4%B8%8A%E5%B8%82%2F%E4%B8%8A%E6%AB%83&FL_QRY=%E6%9F%A5++%E8%A9%A2\""
   ]
  },
  {
   "attachments": {},
   "cell_type": "markdown",
   "metadata": {},
   "source": [
    "#### 操作區\n",
    "* 分開打才不會被 GoodInfo 擋爬蟲"
   ]
  },
  {
   "cell_type": "code",
   "execution_count": 23,
   "metadata": {},
   "outputs": [],
   "source": [
    "long = np.array(get_filter_code(url_long)).astype(str).tolist()          # 3升\n",
    "short000 = np.array(get_filter_code(url_short000)).astype(str).tolist()  # 3降\n",
    "\n",
    "long_111  = get_match(long, new_OK)\n",
    "short_000 = get_match(short000, new_OK)"
   ]
  },
  {
   "cell_type": "code",
   "execution_count": 22,
   "metadata": {},
   "outputs": [],
   "source": [
    "short011 = np.array(get_filter_code(url_short011)).astype(str).tolist()  \n",
    "short101 = np.array(get_filter_code(url_short101)).astype(str).tolist()  \n",
    "short110 = np.array(get_filter_code(url_short110)).astype(str).tolist()  \n",
    "\n",
    "short_011 = get_match(short011, new_OK)\n",
    "short_101 = get_match(short101, new_OK)\n",
    "short_110 = get_match(short110, new_OK)"
   ]
  },
  {
   "cell_type": "code",
   "execution_count": 21,
   "metadata": {},
   "outputs": [],
   "source": [
    "short100 = np.array(get_filter_code(url_short100)).astype(str).tolist() \n",
    "short010 = np.array(get_filter_code(url_short010)).astype(str).tolist()  \n",
    "short001 = np.array(get_filter_code(url_short001)).astype(str).tolist() \n",
    "\n",
    "short_100 = get_match(short100, new_OK)\n",
    "short_010 = get_match(short010, new_OK)\n",
    "short_001 = get_match(short001, new_OK)"
   ]
  },
  {
   "cell_type": "code",
   "execution_count": 24,
   "metadata": {},
   "outputs": [
    {
     "name": "stdout",
     "output_type": "stream",
     "text": [
      "多:['1402', '2303', '2313', '2317', '2330', '2454', '2603', '3037', '3406', '3443', '5483', '6488', '8046']\n",
      "空000:['2002', '2353', '2376', '2409', '2455', '2474', '2492', '2610', '3034', '3105', '3481']\n",
      "空011:['1605', '2337', '2344', '2609', '2615', '6271']\n",
      "空101:['3035']\n",
      "空110:[]\n",
      "空100:['2327', '3008']\n",
      "空010:['2408', '2498']\n",
      "空001:[]\n",
      "\n"
     ]
    }
   ],
   "source": [
    "# 檢查有沒有漏掉\n",
    "print(\n",
    "    f\"多:{long_111}\\n\"\n",
    "    f\"空000:{short_000}\\n\"\n",
    "    f\"空011:{short_011}\\n\"\n",
    "    f\"空101:{short_101}\\n\"\n",
    "    f\"空110:{short_110}\\n\"\n",
    "    f\"空100:{short_100}\\n\"\n",
    "    f\"空010:{short_010}\\n\"\n",
    "    f\"空001:{short_001}\\n\"\n",
    "    )"
   ]
  },
  {
   "cell_type": "code",
   "execution_count": 11,
   "metadata": {},
   "outputs": [],
   "source": [
    "df_ = pd.concat([\n",
    "    pd.DataFrame({'多':long_111}),\n",
    "    pd.DataFrame({\"空000\":short_000}),\n",
    "    pd.DataFrame({\"空011\":short_011}),\n",
    "    pd.DataFrame({\"空101\":short_101}),\n",
    "    pd.DataFrame({\"空110\":short_110}),\n",
    "    pd.DataFrame({\"空100\":short_100}),\n",
    "    pd.DataFrame({\"空010\":short_010}),\n",
    "    pd.DataFrame({\"空001\":short_001})], axis=1)\n",
    "\n",
    "df_.to_csv(path + f\"/df_{dt.date.today()}.csv\", encoding = 'utf_8_sig') # 繁中 -> utf_8_sig"
   ]
  },
  {
   "attachments": {},
   "cell_type": "markdown",
   "metadata": {},
   "source": [
    "### GoodInfo 篩選\n",
    "* 會擋連續訪問"
   ]
  },
  {
   "cell_type": "code",
   "execution_count": 108,
   "metadata": {},
   "outputs": [],
   "source": [
    "import requests\n",
    "from bs4 import BeautifulSoup as BS\n",
    "import os\n",
    "import pandas as pd\n",
    "import numpy as np"
   ]
  },
  {
   "attachments": {},
   "cell_type": "markdown",
   "metadata": {},
   "source": [
    "#### 函式區"
   ]
  },
  {
   "cell_type": "code",
   "execution_count": 217,
   "metadata": {},
   "outputs": [],
   "source": [
    "# +-+-+-+-+-+-+ 篩選結果 +-+-+-+-+-+-+\n",
    "def get_filter_code(url):\n",
    "    # 解析 html\n",
    "    headers = {\n",
    "        \"User-Agent\":\"Mozilla/5.0 (Windows NT 10.0; Win64; x64) AppleWebKit/537.36 (KHTML, like Gecko) Chrome/105.0.0.0 Safari/537.36\"\n",
    "    }  # 設定 headers 的 User-Agent -> https://marketingliveincode.com/?p=4556 (偽瀏覽器?)\n",
    "\n",
    "    req = requests.get(url, headers=headers)\n",
    "    html = BS(req.content, \"lxml\")  # \"lxml\"解析比\"html.parser\"快 -> https://ithelp.ithome.com.tw/articles/10186119\n",
    "                                    # pd.read_html(req.content)讀更久\n",
    "    # 存代號\n",
    "    code_list = []\n",
    "    for i in html.find_all(\"a\", class_=\"link_black\", target=\"_blank\"):\n",
    "        try: code_list.append(int(str(i)[-8:-4]))\n",
    "        except: continue\n",
    "    code = code_list[int(len(code_list) / 2) :]  # 會重複抓\n",
    "    return code"
   ]
  },
  {
   "attachments": {},
   "cell_type": "markdown",
   "metadata": {},
   "source": [
    "#### 操作區\n",
    "* ndarray速度：https://blog.csdn.net/xuebinding/article/details/100194087"
   ]
  },
  {
   "cell_type": "code",
   "execution_count": 110,
   "metadata": {},
   "outputs": [],
   "source": [
    "path = os.getcwd()\n",
    "futures = list(pd.read_csv(path + \"/futures.csv\")[\"一般\"])"
   ]
  },
  {
   "cell_type": "code",
   "execution_count": 218,
   "metadata": {},
   "outputs": [],
   "source": [
    "url_long = \"https://goodinfo.tw/tw2/StockList.asp?MARKET_CAT=%E8%87%AA%E8%A8%82%E7%AF%A9%E9%81%B8&INDUSTRY_CAT=%E6%88%91%E7%9A%84%E6%A2%9D%E4%BB%B6&FL_ITEM0=%E5%96%AE%E5%AD%A3%E2%80%93%E6%AF%9B%E5%88%A9%E7%8E%87%E5%B9%B4%E5%A2%9E%E6%B8%9B%E6%95%B8&FL_VAL_S0=0&FL_VAL_E0=&FL_ITEM1=%E5%96%AE%E5%AD%A3%E2%80%93%E7%87%9F%E6%A5%AD%E5%88%A9%E7%9B%8A%E7%8E%87%E5%B9%B4%E5%A2%9E%E6%B8%9B%E6%95%B8&FL_VAL_S1=0&FL_VAL_E1=&FL_ITEM2=%E5%96%AE%E6%9C%88%E7%87%9F%E6%94%B6%E5%B9%B4%E5%A2%9E%E6%B8%9B%E7%8E%87%28%25%29&FL_VAL_S2=0&FL_VAL_E2=&FL_ITEM3=&FL_VAL_S3=&FL_VAL_E3=&FL_ITEM4=&FL_VAL_S4=&FL_VAL_E4=&FL_ITEM5=&FL_VAL_S5=&FL_VAL_E5=&FL_ITEM6=&FL_VAL_S6=&FL_VAL_E6=&FL_ITEM7=&FL_VAL_S7=&FL_VAL_E7=&FL_ITEM8=&FL_VAL_S8=&FL_VAL_E8=&FL_ITEM9=&FL_VAL_S9=&FL_VAL_E9=&FL_ITEM10=&FL_VAL_S10=&FL_VAL_E10=&FL_ITEM11=&FL_VAL_S11=&FL_VAL_E11=&FL_RULE0=&FL_RULE1=&FL_RULE2=&FL_RULE3=&FL_RULE4=&FL_RULE5=&FL_RANK0=&FL_RANK1=&FL_RANK2=&FL_RANK3=&FL_RANK4=&FL_RANK5=&FL_FD0=&FL_FD1=&FL_FD2=&FL_FD3=&FL_FD4=&FL_FD5=&FL_SHEET=%E8%87%AA%E8%A8%82%E6%AC%84%E4%BD%8D_%E8%A7%80%E5%AF%9F&FL_SHEET2=&FL_MARKET=%E4%B8%8A%E5%B8%82%2F%E4%B8%8A%E6%AB%83&FL_QRY=%E6%9F%A5++%E8%A9%A2\"\n",
    "url_short000 = \"https://goodinfo.tw/tw2/StockList.asp?MARKET_CAT=%E8%87%AA%E8%A8%82%E7%AF%A9%E9%81%B8&INDUSTRY_CAT=%E6%88%91%E7%9A%84%E6%A2%9D%E4%BB%B6&FL_ITEM0=%E5%96%AE%E5%AD%A3%E2%80%93%E6%AF%9B%E5%88%A9%E7%8E%87%E5%B9%B4%E5%A2%9E%E6%B8%9B%E6%95%B8&FL_VAL_S0=&FL_VAL_E0=0&FL_ITEM1=%E5%96%AE%E5%AD%A3%E2%80%93%E7%87%9F%E6%A5%AD%E5%88%A9%E7%9B%8A%E7%8E%87%E5%B9%B4%E5%A2%9E%E6%B8%9B%E6%95%B8&FL_VAL_S1=&FL_VAL_E1=0&FL_ITEM2=%E5%96%AE%E6%9C%88%E7%87%9F%E6%94%B6%E5%B9%B4%E5%A2%9E%E6%B8%9B%E7%8E%87%28%25%29&FL_VAL_S2=&FL_VAL_E2=0&FL_ITEM3=&FL_VAL_S3=&FL_VAL_E3=&FL_ITEM4=&FL_VAL_S4=&FL_VAL_E4=&FL_ITEM5=&FL_VAL_S5=&FL_VAL_E5=&FL_ITEM6=&FL_VAL_S6=&FL_VAL_E6=&FL_ITEM7=&FL_VAL_S7=&FL_VAL_E7=&FL_ITEM8=&FL_VAL_S8=&FL_VAL_E8=&FL_ITEM9=&FL_VAL_S9=&FL_VAL_E9=&FL_ITEM10=&FL_VAL_S10=&FL_VAL_E10=&FL_ITEM11=&FL_VAL_S11=&FL_VAL_E11=&FL_RULE0=&FL_RULE1=&FL_RULE2=&FL_RULE3=&FL_RULE4=&FL_RULE5=&FL_RANK0=&FL_RANK1=&FL_RANK2=&FL_RANK3=&FL_RANK4=&FL_RANK5=&FL_FD0=&FL_FD1=&FL_FD2=&FL_FD3=&FL_FD4=&FL_FD5=&FL_SHEET=%E8%87%AA%E8%A8%82%E6%AC%84%E4%BD%8D_%E8%A7%80%E5%AF%9F&FL_SHEET2=&FL_MARKET=%E4%B8%8A%E5%B8%82%2F%E4%B8%8A%E6%AB%83&FL_QRY=%E6%9F%A5++%E8%A9%A2\"\n",
    "url_short011 = \"https://goodinfo.tw/tw2/StockList.asp?MARKET_CAT=%E8%87%AA%E8%A8%82%E7%AF%A9%E9%81%B8&INDUSTRY_CAT=%E6%88%91%E7%9A%84%E6%A2%9D%E4%BB%B6&FL_ITEM0=%E5%96%AE%E6%9C%88%E7%87%9F%E6%94%B6%E5%B9%B4%E5%A2%9E%E6%B8%9B%E7%8E%87%28%25%29&FL_VAL_S0=&FL_VAL_E0=0&FL_ITEM1=%E5%96%AE%E5%AD%A3%E2%80%93%E6%AF%9B%E5%88%A9%E7%8E%87%E5%B9%B4%E5%A2%9E%E6%B8%9B%E6%95%B8&FL_VAL_S1=0&FL_VAL_E1=&FL_ITEM2=%E5%96%AE%E5%AD%A3%E2%80%93%E7%87%9F%E6%A5%AD%E5%88%A9%E7%9B%8A%E7%8E%87%E5%B9%B4%E5%A2%9E%E6%B8%9B%E6%95%B8&FL_VAL_S2=0&FL_VAL_E2=&FL_ITEM3=&FL_VAL_S3=&FL_VAL_E3=&FL_ITEM4=&FL_VAL_S4=&FL_VAL_E4=&FL_ITEM5=&FL_VAL_S5=&FL_VAL_E5=&FL_ITEM6=&FL_VAL_S6=&FL_VAL_E6=&FL_ITEM7=&FL_VAL_S7=&FL_VAL_E7=&FL_ITEM8=&FL_VAL_S8=&FL_VAL_E8=&FL_ITEM9=&FL_VAL_S9=&FL_VAL_E9=&FL_ITEM10=&FL_VAL_S10=&FL_VAL_E10=&FL_ITEM11=&FL_VAL_S11=&FL_VAL_E11=&FL_RULE0=&FL_RULE1=&FL_RULE2=&FL_RULE3=&FL_RULE4=&FL_RULE5=&FL_RANK0=&FL_RANK1=&FL_RANK2=&FL_RANK3=&FL_RANK4=&FL_RANK5=&FL_FD0=&FL_FD1=&FL_FD2=&FL_FD3=&FL_FD4=&FL_FD5=&FL_SHEET=%E8%87%AA%E8%A8%82%E6%AC%84%E4%BD%8D_%E8%A7%80%E5%AF%9F&FL_SHEET2=&FL_MARKET=%E4%B8%8A%E5%B8%82%2F%E4%B8%8A%E6%AB%83&FL_QRY=%E6%9F%A5++%E8%A9%A2\"\n",
    "url_short101 = \"https://goodinfo.tw/tw2/StockList.asp?MARKET_CAT=%E8%87%AA%E8%A8%82%E7%AF%A9%E9%81%B8&INDUSTRY_CAT=%E6%88%91%E7%9A%84%E6%A2%9D%E4%BB%B6&FL_ITEM0=%E5%96%AE%E6%9C%88%E7%87%9F%E6%94%B6%E5%B9%B4%E5%A2%9E%E6%B8%9B%E7%8E%87%28%25%29&FL_VAL_S0=0&FL_VAL_E0=&FL_ITEM1=%E5%96%AE%E5%AD%A3%E2%80%93%E6%AF%9B%E5%88%A9%E7%8E%87%E5%B9%B4%E5%A2%9E%E6%B8%9B%E6%95%B8&FL_VAL_S1=&FL_VAL_E1=0&FL_ITEM2=%E5%96%AE%E5%AD%A3%E2%80%93%E7%87%9F%E6%A5%AD%E5%88%A9%E7%9B%8A%E7%8E%87%E5%B9%B4%E5%A2%9E%E6%B8%9B%E6%95%B8&FL_VAL_S2=0&FL_VAL_E2=&FL_ITEM3=&FL_VAL_S3=&FL_VAL_E3=&FL_ITEM4=&FL_VAL_S4=&FL_VAL_E4=&FL_ITEM5=&FL_VAL_S5=&FL_VAL_E5=&FL_ITEM6=&FL_VAL_S6=&FL_VAL_E6=&FL_ITEM7=&FL_VAL_S7=&FL_VAL_E7=&FL_ITEM8=&FL_VAL_S8=&FL_VAL_E8=&FL_ITEM9=&FL_VAL_S9=&FL_VAL_E9=&FL_ITEM10=&FL_VAL_S10=&FL_VAL_E10=&FL_ITEM11=&FL_VAL_S11=&FL_VAL_E11=&FL_RULE0=&FL_RULE1=&FL_RULE2=&FL_RULE3=&FL_RULE4=&FL_RULE5=&FL_RANK0=&FL_RANK1=&FL_RANK2=&FL_RANK3=&FL_RANK4=&FL_RANK5=&FL_FD0=&FL_FD1=&FL_FD2=&FL_FD3=&FL_FD4=&FL_FD5=&FL_SHEET=%E8%87%AA%E8%A8%82%E6%AC%84%E4%BD%8D_%E8%A7%80%E5%AF%9F&FL_SHEET2=&FL_MARKET=%E4%B8%8A%E5%B8%82%2F%E4%B8%8A%E6%AB%83&FL_QRY=%E6%9F%A5++%E8%A9%A2\"\n",
    "url_short110 = \"https://goodinfo.tw/tw2/StockList.asp?MARKET_CAT=%E8%87%AA%E8%A8%82%E7%AF%A9%E9%81%B8&INDUSTRY_CAT=%E6%88%91%E7%9A%84%E6%A2%9D%E4%BB%B6&FL_ITEM0=%E5%96%AE%E6%9C%88%E7%87%9F%E6%94%B6%E5%B9%B4%E5%A2%9E%E6%B8%9B%E7%8E%87%28%25%29&FL_VAL_S0=0&FL_VAL_E0=&FL_ITEM1=%E5%96%AE%E5%AD%A3%E2%80%93%E6%AF%9B%E5%88%A9%E7%8E%87%E5%B9%B4%E5%A2%9E%E6%B8%9B%E6%95%B8&FL_VAL_S1=0&FL_VAL_E1=&FL_ITEM2=%E5%96%AE%E5%AD%A3%E2%80%93%E7%87%9F%E6%A5%AD%E5%88%A9%E7%9B%8A%E7%8E%87%E5%B9%B4%E5%A2%9E%E6%B8%9B%E6%95%B8&FL_VAL_S2=&FL_VAL_E2=0&FL_ITEM3=&FL_VAL_S3=&FL_VAL_E3=&FL_ITEM4=&FL_VAL_S4=&FL_VAL_E4=&FL_ITEM5=&FL_VAL_S5=&FL_VAL_E5=&FL_ITEM6=&FL_VAL_S6=&FL_VAL_E6=&FL_ITEM7=&FL_VAL_S7=&FL_VAL_E7=&FL_ITEM8=&FL_VAL_S8=&FL_VAL_E8=&FL_ITEM9=&FL_VAL_S9=&FL_VAL_E9=&FL_ITEM10=&FL_VAL_S10=&FL_VAL_E10=&FL_ITEM11=&FL_VAL_S11=&FL_VAL_E11=&FL_RULE0=&FL_RULE1=&FL_RULE2=&FL_RULE3=&FL_RULE4=&FL_RULE5=&FL_RANK0=&FL_RANK1=&FL_RANK2=&FL_RANK3=&FL_RANK4=&FL_RANK5=&FL_FD0=&FL_FD1=&FL_FD2=&FL_FD3=&FL_FD4=&FL_FD5=&FL_SHEET=%E8%87%AA%E8%A8%82%E6%AC%84%E4%BD%8D_%E8%A7%80%E5%AF%9F&FL_SHEET2=&FL_MARKET=%E4%B8%8A%E5%B8%82%2F%E4%B8%8A%E6%AB%83&FL_QRY=%E6%9F%A5++%E8%A9%A2\"\n",
    "url_short100 = \"https://goodinfo.tw/tw2/StockList.asp?MARKET_CAT=%E8%87%AA%E8%A8%82%E7%AF%A9%E9%81%B8&INDUSTRY_CAT=%E6%88%91%E7%9A%84%E6%A2%9D%E4%BB%B6&FL_ITEM0=%E5%96%AE%E6%9C%88%E7%87%9F%E6%94%B6%E5%B9%B4%E5%A2%9E%E6%B8%9B%E7%8E%87%28%25%29&FL_VAL_S0=0&FL_VAL_E0=&FL_ITEM1=%E5%96%AE%E5%AD%A3%E2%80%93%E6%AF%9B%E5%88%A9%E7%8E%87%E5%B9%B4%E5%A2%9E%E6%B8%9B%E6%95%B8&FL_VAL_S1=&FL_VAL_E1=0&FL_ITEM2=%E5%96%AE%E5%AD%A3%E2%80%93%E7%87%9F%E6%A5%AD%E5%88%A9%E7%9B%8A%E7%8E%87%E5%B9%B4%E5%A2%9E%E6%B8%9B%E6%95%B8&FL_VAL_S2=&FL_VAL_E2=0&FL_ITEM3=&FL_VAL_S3=&FL_VAL_E3=&FL_ITEM4=&FL_VAL_S4=&FL_VAL_E4=&FL_ITEM5=&FL_VAL_S5=&FL_VAL_E5=&FL_ITEM6=&FL_VAL_S6=&FL_VAL_E6=&FL_ITEM7=&FL_VAL_S7=&FL_VAL_E7=&FL_ITEM8=&FL_VAL_S8=&FL_VAL_E8=&FL_ITEM9=&FL_VAL_S9=&FL_VAL_E9=&FL_ITEM10=&FL_VAL_S10=&FL_VAL_E10=&FL_ITEM11=&FL_VAL_S11=&FL_VAL_E11=&FL_RULE0=&FL_RULE1=&FL_RULE2=&FL_RULE3=&FL_RULE4=&FL_RULE5=&FL_RANK0=&FL_RANK1=&FL_RANK2=&FL_RANK3=&FL_RANK4=&FL_RANK5=&FL_FD0=&FL_FD1=&FL_FD2=&FL_FD3=&FL_FD4=&FL_FD5=&FL_SHEET=%E8%87%AA%E8%A8%82%E6%AC%84%E4%BD%8D_%E8%A7%80%E5%AF%9F&FL_SHEET2=&FL_MARKET=%E4%B8%8A%E5%B8%82%2F%E4%B8%8A%E6%AB%83&FL_QRY=%E6%9F%A5++%E8%A9%A2\"\n",
    "url_short010 = \"https://goodinfo.tw/tw2/StockList.asp?MARKET_CAT=%E8%87%AA%E8%A8%82%E7%AF%A9%E9%81%B8&INDUSTRY_CAT=%E6%88%91%E7%9A%84%E6%A2%9D%E4%BB%B6&FL_ITEM0=%E5%96%AE%E6%9C%88%E7%87%9F%E6%94%B6%E5%B9%B4%E5%A2%9E%E6%B8%9B%E7%8E%87%28%25%29&FL_VAL_S0=&FL_VAL_E0=0&FL_ITEM1=%E5%96%AE%E5%AD%A3%E2%80%93%E6%AF%9B%E5%88%A9%E7%8E%87%E5%B9%B4%E5%A2%9E%E6%B8%9B%E6%95%B8&FL_VAL_S1=0&FL_VAL_E1=&FL_ITEM2=%E5%96%AE%E5%AD%A3%E2%80%93%E7%87%9F%E6%A5%AD%E5%88%A9%E7%9B%8A%E7%8E%87%E5%B9%B4%E5%A2%9E%E6%B8%9B%E6%95%B8&FL_VAL_S2=&FL_VAL_E2=0&FL_ITEM3=&FL_VAL_S3=&FL_VAL_E3=&FL_ITEM4=&FL_VAL_S4=&FL_VAL_E4=&FL_ITEM5=&FL_VAL_S5=&FL_VAL_E5=&FL_ITEM6=&FL_VAL_S6=&FL_VAL_E6=&FL_ITEM7=&FL_VAL_S7=&FL_VAL_E7=&FL_ITEM8=&FL_VAL_S8=&FL_VAL_E8=&FL_ITEM9=&FL_VAL_S9=&FL_VAL_E9=&FL_ITEM10=&FL_VAL_S10=&FL_VAL_E10=&FL_ITEM11=&FL_VAL_S11=&FL_VAL_E11=&FL_RULE0=&FL_RULE1=&FL_RULE2=&FL_RULE3=&FL_RULE4=&FL_RULE5=&FL_RANK0=&FL_RANK1=&FL_RANK2=&FL_RANK3=&FL_RANK4=&FL_RANK5=&FL_FD0=&FL_FD1=&FL_FD2=&FL_FD3=&FL_FD4=&FL_FD5=&FL_SHEET=%E8%87%AA%E8%A8%82%E6%AC%84%E4%BD%8D_%E8%A7%80%E5%AF%9F&FL_SHEET2=&FL_MARKET=%E4%B8%8A%E5%B8%82%2F%E4%B8%8A%E6%AB%83&FL_QRY=%E6%9F%A5++%E8%A9%A2\"\n",
    "url_short001 = \"https://goodinfo.tw/tw2/StockList.asp?MARKET_CAT=%E8%87%AA%E8%A8%82%E7%AF%A9%E9%81%B8&INDUSTRY_CAT=%E6%88%91%E7%9A%84%E6%A2%9D%E4%BB%B6&FL_ITEM0=%E5%96%AE%E6%9C%88%E7%87%9F%E6%94%B6%E5%B9%B4%E5%A2%9E%E6%B8%9B%E7%8E%87%28%25%29&FL_VAL_S0=&FL_VAL_E0=0&FL_ITEM1=%E5%96%AE%E5%AD%A3%E2%80%93%E6%AF%9B%E5%88%A9%E7%8E%87%E5%B9%B4%E5%A2%9E%E6%B8%9B%E6%95%B8&FL_VAL_S1=&FL_VAL_E1=0&FL_ITEM2=%E5%96%AE%E5%AD%A3%E2%80%93%E7%87%9F%E6%A5%AD%E5%88%A9%E7%9B%8A%E7%8E%87%E5%B9%B4%E5%A2%9E%E6%B8%9B%E6%95%B8&FL_VAL_S2=0&FL_VAL_E2=&FL_ITEM3=&FL_VAL_S3=&FL_VAL_E3=&FL_ITEM4=&FL_VAL_S4=&FL_VAL_E4=&FL_ITEM5=&FL_VAL_S5=&FL_VAL_E5=&FL_ITEM6=&FL_VAL_S6=&FL_VAL_E6=&FL_ITEM7=&FL_VAL_S7=&FL_VAL_E7=&FL_ITEM8=&FL_VAL_S8=&FL_VAL_E8=&FL_ITEM9=&FL_VAL_S9=&FL_VAL_E9=&FL_ITEM10=&FL_VAL_S10=&FL_VAL_E10=&FL_ITEM11=&FL_VAL_S11=&FL_VAL_E11=&FL_RULE0=&FL_RULE1=&FL_RULE2=&FL_RULE3=&FL_RULE4=&FL_RULE5=&FL_RANK0=&FL_RANK1=&FL_RANK2=&FL_RANK3=&FL_RANK4=&FL_RANK5=&FL_FD0=&FL_FD1=&FL_FD2=&FL_FD3=&FL_FD4=&FL_FD5=&FL_SHEET=%E8%87%AA%E8%A8%82%E6%AC%84%E4%BD%8D_%E8%A7%80%E5%AF%9F&FL_SHEET2=&FL_MARKET=%E4%B8%8A%E5%B8%82%2F%E4%B8%8A%E6%AB%83&FL_QRY=%E6%9F%A5++%E8%A9%A2\"\n",
    "\n",
    "\n",
    "\n",
    "long = get_filter_code(url_long)  # 3升\n",
    "short000 = get_filter_code(url_short000)  # 3降\n",
    "# short011 = get_filter_code(url_short011)  # -++\n",
    "# short101 = get_filter_code(url_short101)  # +-+\n",
    "# short110 = get_filter_code(url_short110)  # ++-\n",
    "# short100 = get_filter_code(url_short100)  # +--\n",
    "# short010 = get_filter_code(url_short010)  # -+-\n",
    "# short001 = get_filter_code(url_short001)  # --+\n",
    "\n",
    "match_long     = get_match(futures, long)\n",
    "match_short000 = get_match(futures, short000)\n"
   ]
  },
  {
   "cell_type": "code",
   "execution_count": 11,
   "metadata": {},
   "outputs": [
    {
     "name": "stdout",
     "output_type": "stream",
     "text": [
      "3升:[1319, 1402, 1476, 1605, 2027, 2049, 2201, 2301, 2303, 2313, 2317, 2330, 2338, 2345, 2454, 2603, 2609, 2618, 3037, 3189, 3231, 3380, 3406, 3443, 3532, 3711, 4938, 4958, 5009, 5347, 5425, 5483, 6182, 6257, 6271, 6282, 6488, 6770, 8046, 8069]\n",
      "3降:[2002, 2014, 2340, 2353, 2354, 2376, 2377, 2379, 2455, 2458, 2474, 2492, 3034, 3105, 6116, 6213, 6274, 8044, 8086]\n",
      "\n"
     ]
    }
   ],
   "source": [
    "print(f\"3升:{match_long}\\n3降:{match_short000}\\n\")"
   ]
  },
  {
   "attachments": {},
   "cell_type": "markdown",
   "metadata": {},
   "source": [
    "### 公開資訊觀測站\n",
    "* 會擋連續訪問\n",
    "* XBRL平台：https://mops.twse.com.tw/mops/web/t203sb01"
   ]
  },
  {
   "cell_type": "code",
   "execution_count": 1,
   "metadata": {},
   "outputs": [],
   "source": [
    "import requests\n",
    "import pandas as pd\n",
    "import numpy as np\n",
    "import os"
   ]
  },
  {
   "cell_type": "code",
   "execution_count": 156,
   "metadata": {},
   "outputs": [
    {
     "name": "stdout",
     "output_type": "stream",
     "text": [
      "1101\n",
      "1216\n"
     ]
    },
    {
     "ename": "KeyboardInterrupt",
     "evalue": "",
     "output_type": "error",
     "traceback": [
      "\u001b[1;31m---------------------------------------------------------------------------\u001b[0m",
      "\u001b[1;31mKeyboardInterrupt\u001b[0m                         Traceback (most recent call last)",
      "\u001b[1;32md:\\MEGAsync\\內存\\BookMark\\profolio\\Filter.ipynb Cell 7\u001b[0m in \u001b[0;36m<cell line: 11>\u001b[1;34m()\u001b[0m\n\u001b[0;32m     <a href='vscode-notebook-cell:/d%3A/MEGAsync/%E5%85%A7%E5%AD%98/BookMark/profolio/Filter.ipynb#X14sZmlsZQ%3D%3D?line=11'>12</a>\u001b[0m     \u001b[39mprint\u001b[39m(code)\n\u001b[0;32m     <a href='vscode-notebook-cell:/d%3A/MEGAsync/%E5%85%A7%E5%AD%98/BookMark/profolio/Filter.ipynb#X14sZmlsZQ%3D%3D?line=12'>13</a>\u001b[0m     two_rate\u001b[39m.\u001b[39mappend(get_rate(code, year, season))\n\u001b[1;32m---> <a href='vscode-notebook-cell:/d%3A/MEGAsync/%E5%85%A7%E5%AD%98/BookMark/profolio/Filter.ipynb#X14sZmlsZQ%3D%3D?line=14'>15</a>\u001b[0m     time\u001b[39m.\u001b[39;49msleep(random\u001b[39m.\u001b[39;49mrandint(\u001b[39m5\u001b[39;49m, \u001b[39m10\u001b[39;49m))  \n\u001b[0;32m     <a href='vscode-notebook-cell:/d%3A/MEGAsync/%E5%85%A7%E5%AD%98/BookMark/profolio/Filter.ipynb#X14sZmlsZQ%3D%3D?line=16'>17</a>\u001b[0m two_rate\n",
      "\u001b[1;31mKeyboardInterrupt\u001b[0m: "
     ]
    }
   ],
   "source": [
    "import time\n",
    "import random\n",
    "\n",
    "path = os.getcwd()\n",
    "futures = pd.read_csv(path + \"/futures.csv\")  # 讀繁中 -> encoding='big5', 轉字串 -> dtype=str\n",
    "\n",
    "two_rate = []\n",
    "year = 2022\n",
    "season = 2\n",
    "\n",
    "for code in list(futures[\"一般\"]):\n",
    "    print(code)\n",
    "    two_rate.append(get_rate(code, year, season))\n",
    "two_rate"
   ]
  },
  {
   "attachments": {},
   "cell_type": "markdown",
   "metadata": {},
   "source": [
    "#### 2率"
   ]
  },
  {
   "cell_type": "code",
   "execution_count": 50,
   "metadata": {},
   "outputs": [],
   "source": [
    "# +-+-+-+-+-+-+ 找是否在追蹤商品 +-+-+-+-+-+-+\n",
    "def get_match(need, compare):\n",
    "    match = []\n",
    "    delete = None\n",
    "    filter = compare.copy()\n",
    "    for i in need:\n",
    "        try:\n",
    "            filter.remove(delete)  # 已配對的拿掉\n",
    "        except:\n",
    "            None\n",
    "        for j in filter:\n",
    "            if i == j:\n",
    "                match.append(j)\n",
    "                delete = j\n",
    "                break\n",
    "    return match\n",
    "\n",
    "\n",
    "# +-+-+-+-+-+-+ 抓營益資料 +-+-+-+-+-+-+\n",
    "def get_rate(year, season, need):\n",
    "    url = \"https://mops.twse.com.tw/mops/web/t163sb06\"\n",
    "    req = requests.post(\n",
    "        url,\n",
    "        {\n",
    "            \"year\": year - 1911,\n",
    "            \"season\": season,\n",
    "            \"TYPEK\": \"all\",\n",
    "            \"firstin\": 1,  # F12看到的  沒打會沒東西QQ\n",
    "            \"step\": 1,  # 沒打也可以耶!\n",
    "        },\n",
    "    )\n",
    "    df_list = pd.read_html(req.text)\n",
    "    data = pd.concat(\n",
    "        [i for i in df_list if i.shape[1] == 7]\n",
    "    )  # 剛好「7列」才是數據表格 (shape -> (行, 列) )\n",
    "\n",
    "    data.columns = data.iloc[0]  # 改正確 column 標題\n",
    "    data = data[data[\"公司代號\"] != \"公司代號\"].set_index([\"公司代號\"])  # 刪除標題跑進去的 row\n",
    "    data.index = data.index.astype(int)\n",
    "\n",
    "    code = get_match(need, list(data.index))\n",
    "    two_rate = data.loc[code][[\"毛利率(%)(營業毛利)/(營業收入)\", \"營業利益率(%)(營業利益)/(營業收入)\"]]\n",
    "    two_rate.columns = [f\"毛({year}Q{season})\", f\"利({year}Q{season})\"]\n",
    "\n",
    "    return two_rate\n"
   ]
  },
  {
   "cell_type": "code",
   "execution_count": 51,
   "metadata": {},
   "outputs": [],
   "source": [
    "year = 2022\n",
    "season = 2\n",
    "\n",
    "path = os.getcwd()\n",
    "futures = pd.read_csv(path + \"/futures.csv\")  # 讀繁中 -> encoding='big5', 轉字串 -> dtype=str\n",
    "need = list(futures[\"一般\"])\n",
    "\n",
    "url = \"https://mops.twse.com.tw/mops/web/t163sb06\"\n",
    "req = requests.post(\n",
    "    url,\n",
    "    {\n",
    "        \"year\": year - 1911,\n",
    "        \"season\": season,\n",
    "        \"TYPEK\": \"all\",\n",
    "        \"firstin\": 1,  # F12看到的  沒打會沒東西QQ\n",
    "        \"step\": 1,  # 沒打也可以耶!\n",
    "    },\n",
    ")\n",
    "df_list = pd.read_html(req.text)\n",
    "data = pd.concat(\n",
    "    [i for i in df_list if i.shape[1] == 7]\n",
    ")  # 剛好「7列」才是數據表格 (shape -> (行, 列) )\n",
    "\n",
    "data.columns = data.iloc[0]  # 改正確 column 標題\n",
    "data = data[data[\"公司代號\"] != \"公司代號\"].set_index([\"公司代號\"])  # 刪除標題跑進去的 row\n",
    "data.index = data.index.astype(int)\n",
    "\n",
    "code = get_match(need, list(data.index))\n",
    "two_rate = data.loc[code][[\"毛利率(%)(營業毛利)/(營業收入)\", \"營業利益率(%)(營業利益)/(營業收入)\"]]\n",
    "two_rate.columns = [f\"毛({year}Q{season})\", f\"利({year}Q{season})\"]\n"
   ]
  },
  {
   "cell_type": "code",
   "execution_count": 85,
   "metadata": {},
   "outputs": [
    {
     "data": {
      "text/html": [
       "<div>\n",
       "<style scoped>\n",
       "    .dataframe tbody tr th:only-of-type {\n",
       "        vertical-align: middle;\n",
       "    }\n",
       "\n",
       "    .dataframe tbody tr th {\n",
       "        vertical-align: top;\n",
       "    }\n",
       "\n",
       "    .dataframe thead th {\n",
       "        text-align: right;\n",
       "    }\n",
       "</style>\n",
       "<table border=\"1\" class=\"dataframe\">\n",
       "  <thead>\n",
       "    <tr style=\"text-align: right;\">\n",
       "      <th></th>\n",
       "      <th>毛(2022Q2)</th>\n",
       "      <th>利(2022Q2)</th>\n",
       "      <th>毛(2021Q2)</th>\n",
       "      <th>利(2021Q2)</th>\n",
       "      <th>毛(2020Q2)</th>\n",
       "      <th>利(2020Q2)</th>\n",
       "    </tr>\n",
       "    <tr>\n",
       "      <th>公司代號</th>\n",
       "      <th></th>\n",
       "      <th></th>\n",
       "      <th></th>\n",
       "      <th></th>\n",
       "      <th></th>\n",
       "      <th></th>\n",
       "    </tr>\n",
       "  </thead>\n",
       "  <tbody>\n",
       "    <tr>\n",
       "      <th>1101</th>\n",
       "      <td>4.38</td>\n",
       "      <td>-3.74</td>\n",
       "      <td>28.25</td>\n",
       "      <td>22.49</td>\n",
       "      <td>31.77</td>\n",
       "      <td>26.29</td>\n",
       "    </tr>\n",
       "    <tr>\n",
       "      <th>1216</th>\n",
       "      <td>32.33</td>\n",
       "      <td>5.92</td>\n",
       "      <td>33.89</td>\n",
       "      <td>6.14</td>\n",
       "      <td>34.71</td>\n",
       "      <td>7.17</td>\n",
       "    </tr>\n",
       "    <tr>\n",
       "      <th>1319</th>\n",
       "      <td>21.55</td>\n",
       "      <td>7.10</td>\n",
       "      <td>19.64</td>\n",
       "      <td>3.81</td>\n",
       "      <td>18.86</td>\n",
       "      <td>1.51</td>\n",
       "    </tr>\n",
       "    <tr>\n",
       "      <th>1402</th>\n",
       "      <td>21.20</td>\n",
       "      <td>7.21</td>\n",
       "      <td>20.69</td>\n",
       "      <td>6.26</td>\n",
       "      <td>18.89</td>\n",
       "      <td>4.14</td>\n",
       "    </tr>\n",
       "    <tr>\n",
       "      <th>1476</th>\n",
       "      <td>27.40</td>\n",
       "      <td>20.19</td>\n",
       "      <td>28.24</td>\n",
       "      <td>20.08</td>\n",
       "      <td>26.51</td>\n",
       "      <td>15.84</td>\n",
       "    </tr>\n",
       "    <tr>\n",
       "      <th>...</th>\n",
       "      <td>...</td>\n",
       "      <td>...</td>\n",
       "      <td>...</td>\n",
       "      <td>...</td>\n",
       "      <td>...</td>\n",
       "      <td>...</td>\n",
       "    </tr>\n",
       "    <tr>\n",
       "      <th>8046</th>\n",
       "      <td>38.11</td>\n",
       "      <td>34.18</td>\n",
       "      <td>23.86</td>\n",
       "      <td>19.75</td>\n",
       "      <td>12.73</td>\n",
       "      <td>8.13</td>\n",
       "    </tr>\n",
       "    <tr>\n",
       "      <th>8069</th>\n",
       "      <td>47.60</td>\n",
       "      <td>25.32</td>\n",
       "      <td>45.60</td>\n",
       "      <td>15.15</td>\n",
       "      <td>44.05</td>\n",
       "      <td>6.35</td>\n",
       "    </tr>\n",
       "    <tr>\n",
       "      <th>8086</th>\n",
       "      <td>21.01</td>\n",
       "      <td>4.86</td>\n",
       "      <td>28.50</td>\n",
       "      <td>19.87</td>\n",
       "      <td>32.41</td>\n",
       "      <td>23.72</td>\n",
       "    </tr>\n",
       "    <tr>\n",
       "      <th>9904</th>\n",
       "      <td>23.56</td>\n",
       "      <td>3.66</td>\n",
       "      <td>26.00</td>\n",
       "      <td>4.74</td>\n",
       "      <td>20.63</td>\n",
       "      <td>-2.87</td>\n",
       "    </tr>\n",
       "    <tr>\n",
       "      <th>9938</th>\n",
       "      <td>35.95</td>\n",
       "      <td>19.27</td>\n",
       "      <td>39.60</td>\n",
       "      <td>25.89</td>\n",
       "      <td>36.91</td>\n",
       "      <td>19.76</td>\n",
       "    </tr>\n",
       "  </tbody>\n",
       "</table>\n",
       "<p>109 rows × 6 columns</p>\n",
       "</div>"
      ],
      "text/plain": [
       "     毛(2022Q2) 利(2022Q2) 毛(2021Q2) 利(2021Q2) 毛(2020Q2) 利(2020Q2)\n",
       "公司代號                                                            \n",
       "1101      4.38     -3.74     28.25     22.49     31.77     26.29\n",
       "1216     32.33      5.92     33.89      6.14     34.71      7.17\n",
       "1319     21.55      7.10     19.64      3.81     18.86      1.51\n",
       "1402     21.20      7.21     20.69      6.26     18.89      4.14\n",
       "1476     27.40     20.19     28.24     20.08     26.51     15.84\n",
       "...        ...       ...       ...       ...       ...       ...\n",
       "8046     38.11     34.18     23.86     19.75     12.73      8.13\n",
       "8069     47.60     25.32     45.60     15.15     44.05      6.35\n",
       "8086     21.01      4.86     28.50     19.87     32.41     23.72\n",
       "9904     23.56      3.66     26.00      4.74     20.63     -2.87\n",
       "9938     35.95     19.27     39.60     25.89     36.91     19.76\n",
       "\n",
       "[109 rows x 6 columns]"
      ]
     },
     "execution_count": 85,
     "metadata": {},
     "output_type": "execute_result"
    }
   ],
   "source": [
    "path = os.getcwd()\n",
    "futures = pd.read_csv(path + \"/futures.csv\")  # 讀繁中 -> encoding='big5', 轉字串 -> dtype=str\n",
    "need = list(futures[\"一般\"])\n",
    "\n",
    "year = 2022\n",
    "season = 2\n",
    "backward = 2\n",
    "\n",
    "rate = []\n",
    "# for i in range(backward+1): rate.setdefault(f\"{year-i}Q{season}\", get_rate(year-i, season, need))\n",
    "for i in range(backward + 1):\n",
    "    rate.append(get_rate(year - i, season, need))\n",
    "\n",
    "rate_2 = pd.concat([rate[0], rate[1], rate[2]], axis=1)\n",
    "rate_2.dropna()\n",
    "rate_2\n"
   ]
  },
  {
   "attachments": {},
   "cell_type": "markdown",
   "metadata": {},
   "source": [
    "#### 營收\n",
    "* https://lglbengo.wordpress.com/2020/03/11/%E8%87%AA%E5%AD%B8%E8%B2%A1%E5%A0%B1%E7%88%AC%E8%9F%B2%E7%AC%AC1%E7%AB%A0-%E6%8A%93%E4%B8%8A%E5%B8%82%E6%AB%83%E5%85%AC%E5%8F%B8%E9%81%8E%E5%8E%BB12%E5%80%8B%E6%9C%88%E7%87%9F%E6%94%B6/"
   ]
  },
  {
   "cell_type": "code",
   "execution_count": null,
   "metadata": {},
   "outputs": [],
   "source": [
    "https://mops.twse.com.tw/nas/t21/sii/t21sc03_110_3_0.html"
   ]
  },
  {
   "cell_type": "code",
   "execution_count": 2,
   "metadata": {},
   "outputs": [],
   "source": [
    "market = \"sii\"  # {'上市':'sii', '上櫃':'otc', '興櫃':'rotc', '公開發行':'pub'}\n",
    "if_KY = 0  # {'是':1, '否':0}\n",
    "year = 2022\n",
    "month = 8\n",
    "url = f\"https://mops.twse.com.tw/nas/t21/{market}/t21sc03_{year-1911}_{month}_{if_KY}.html\"\n",
    "req = requests.get(url)\n",
    "req.encoding = \"big5\"\n",
    "\n",
    "dfs = pd.read_html(req.text)\n"
   ]
  },
  {
   "cell_type": "code",
   "execution_count": 4,
   "metadata": {},
   "outputs": [
    {
     "data": {
      "text/html": [
       "<div>\n",
       "<style scoped>\n",
       "    .dataframe tbody tr th:only-of-type {\n",
       "        vertical-align: middle;\n",
       "    }\n",
       "\n",
       "    .dataframe tbody tr th {\n",
       "        vertical-align: top;\n",
       "    }\n",
       "\n",
       "    .dataframe thead th {\n",
       "        text-align: right;\n",
       "    }\n",
       "</style>\n",
       "<table border=\"1\" class=\"dataframe\">\n",
       "  <thead>\n",
       "    <tr style=\"text-align: right;\">\n",
       "      <th></th>\n",
       "      <th>公司名稱</th>\n",
       "      <th>當月營收</th>\n",
       "      <th>上月營收</th>\n",
       "      <th>去年當月營收</th>\n",
       "      <th>上月比較增減(%)</th>\n",
       "      <th>去年同月增減(%)</th>\n",
       "      <th>當月累計營收</th>\n",
       "      <th>去年累計營收</th>\n",
       "      <th>前期比較增減(%)</th>\n",
       "      <th>備註</th>\n",
       "    </tr>\n",
       "    <tr>\n",
       "      <th>公司代號</th>\n",
       "      <th></th>\n",
       "      <th></th>\n",
       "      <th></th>\n",
       "      <th></th>\n",
       "      <th></th>\n",
       "      <th></th>\n",
       "      <th></th>\n",
       "      <th></th>\n",
       "      <th></th>\n",
       "      <th></th>\n",
       "    </tr>\n",
       "  </thead>\n",
       "  <tbody>\n",
       "    <tr>\n",
       "      <th>1101</th>\n",
       "      <td>台泥</td>\n",
       "      <td>10689860</td>\n",
       "      <td>10102468</td>\n",
       "      <td>8964476</td>\n",
       "      <td>5.81</td>\n",
       "      <td>19.24</td>\n",
       "      <td>68937060</td>\n",
       "      <td>67307812</td>\n",
       "      <td>2.42</td>\n",
       "      <td>以上營收不包含停業部門營收:111年8月 0 仟元暨110年8月595,903仟元；111年...</td>\n",
       "    </tr>\n",
       "    <tr>\n",
       "      <th>1102</th>\n",
       "      <td>亞泥</td>\n",
       "      <td>7069221</td>\n",
       "      <td>7864622</td>\n",
       "      <td>7193266</td>\n",
       "      <td>-10.11</td>\n",
       "      <td>-1.72</td>\n",
       "      <td>59102719</td>\n",
       "      <td>54657145</td>\n",
       "      <td>8.13</td>\n",
       "      <td>-</td>\n",
       "    </tr>\n",
       "    <tr>\n",
       "      <th>1103</th>\n",
       "      <td>嘉泥</td>\n",
       "      <td>182371</td>\n",
       "      <td>178825</td>\n",
       "      <td>166022</td>\n",
       "      <td>1.98</td>\n",
       "      <td>9.84</td>\n",
       "      <td>1388559</td>\n",
       "      <td>1453918</td>\n",
       "      <td>-4.49</td>\n",
       "      <td>-</td>\n",
       "    </tr>\n",
       "    <tr>\n",
       "      <th>1104</th>\n",
       "      <td>環泥</td>\n",
       "      <td>605512</td>\n",
       "      <td>580420</td>\n",
       "      <td>431224</td>\n",
       "      <td>4.32</td>\n",
       "      <td>40.41</td>\n",
       "      <td>4466788</td>\n",
       "      <td>3829973</td>\n",
       "      <td>16.62</td>\n",
       "      <td>-</td>\n",
       "    </tr>\n",
       "    <tr>\n",
       "      <th>1108</th>\n",
       "      <td>幸福</td>\n",
       "      <td>390053</td>\n",
       "      <td>326691</td>\n",
       "      <td>249977</td>\n",
       "      <td>19.39</td>\n",
       "      <td>56.03</td>\n",
       "      <td>2599544</td>\n",
       "      <td>2635052</td>\n",
       "      <td>-1.34</td>\n",
       "      <td>去年同期本公司石材減產，致本月與去年同期相較增加50%以上。</td>\n",
       "    </tr>\n",
       "    <tr>\n",
       "      <th>...</th>\n",
       "      <td>...</td>\n",
       "      <td>...</td>\n",
       "      <td>...</td>\n",
       "      <td>...</td>\n",
       "      <td>...</td>\n",
       "      <td>...</td>\n",
       "      <td>...</td>\n",
       "      <td>...</td>\n",
       "      <td>...</td>\n",
       "      <td>...</td>\n",
       "    </tr>\n",
       "    <tr>\n",
       "      <th>9941</th>\n",
       "      <td>裕融</td>\n",
       "      <td>3201093</td>\n",
       "      <td>3093859</td>\n",
       "      <td>2732555</td>\n",
       "      <td>3.46</td>\n",
       "      <td>17.14</td>\n",
       "      <td>23639824</td>\n",
       "      <td>20970817</td>\n",
       "      <td>12.72</td>\n",
       "      <td>-</td>\n",
       "    </tr>\n",
       "    <tr>\n",
       "      <th>9942</th>\n",
       "      <td>茂順</td>\n",
       "      <td>352730</td>\n",
       "      <td>349111</td>\n",
       "      <td>336002</td>\n",
       "      <td>1.03</td>\n",
       "      <td>4.97</td>\n",
       "      <td>2601215</td>\n",
       "      <td>2512658</td>\n",
       "      <td>3.52</td>\n",
       "      <td>-</td>\n",
       "    </tr>\n",
       "    <tr>\n",
       "      <th>9944</th>\n",
       "      <td>新麗</td>\n",
       "      <td>179660</td>\n",
       "      <td>231139</td>\n",
       "      <td>178668</td>\n",
       "      <td>-22.27</td>\n",
       "      <td>0.55</td>\n",
       "      <td>1877352</td>\n",
       "      <td>1848775</td>\n",
       "      <td>1.54</td>\n",
       "      <td>-</td>\n",
       "    </tr>\n",
       "    <tr>\n",
       "      <th>9945</th>\n",
       "      <td>潤泰新</td>\n",
       "      <td>2323847</td>\n",
       "      <td>2846856</td>\n",
       "      <td>3573571</td>\n",
       "      <td>-18.37</td>\n",
       "      <td>-34.97</td>\n",
       "      <td>19105014</td>\n",
       "      <td>18110886</td>\n",
       "      <td>5.48</td>\n",
       "      <td>-</td>\n",
       "    </tr>\n",
       "    <tr>\n",
       "      <th>9955</th>\n",
       "      <td>佳龍</td>\n",
       "      <td>81881</td>\n",
       "      <td>85625</td>\n",
       "      <td>109319</td>\n",
       "      <td>-4.37</td>\n",
       "      <td>-25.09</td>\n",
       "      <td>826811</td>\n",
       "      <td>994253</td>\n",
       "      <td>-16.84</td>\n",
       "      <td>-</td>\n",
       "    </tr>\n",
       "  </tbody>\n",
       "</table>\n",
       "<p>893 rows × 10 columns</p>\n",
       "</div>"
      ],
      "text/plain": [
       "     公司名稱      當月營收      上月營收   去年當月營收  上月比較增減(%)  去年同月增減(%)    當月累計營收  \\\n",
       "公司代號                                                                     \n",
       "1101   台泥  10689860  10102468  8964476       5.81      19.24  68937060   \n",
       "1102   亞泥   7069221   7864622  7193266     -10.11      -1.72  59102719   \n",
       "1103   嘉泥    182371    178825   166022       1.98       9.84   1388559   \n",
       "1104   環泥    605512    580420   431224       4.32      40.41   4466788   \n",
       "1108   幸福    390053    326691   249977      19.39      56.03   2599544   \n",
       "...   ...       ...       ...      ...        ...        ...       ...   \n",
       "9941   裕融   3201093   3093859  2732555       3.46      17.14  23639824   \n",
       "9942   茂順    352730    349111   336002       1.03       4.97   2601215   \n",
       "9944   新麗    179660    231139   178668     -22.27       0.55   1877352   \n",
       "9945  潤泰新   2323847   2846856  3573571     -18.37     -34.97  19105014   \n",
       "9955   佳龍     81881     85625   109319      -4.37     -25.09    826811   \n",
       "\n",
       "        去年累計營收  前期比較增減(%)                                                 備註  \n",
       "公司代號                                                                          \n",
       "1101  67307812       2.42  以上營收不包含停業部門營收:111年8月 0 仟元暨110年8月595,903仟元；111年...  \n",
       "1102  54657145       8.13                                                  -  \n",
       "1103   1453918      -4.49                                                  -  \n",
       "1104   3829973      16.62                                                  -  \n",
       "1108   2635052      -1.34                     去年同期本公司石材減產，致本月與去年同期相較增加50%以上。  \n",
       "...        ...        ...                                                ...  \n",
       "9941  20970817      12.72                                                  -  \n",
       "9942   2512658       3.52                                                  -  \n",
       "9944   1848775       1.54                                                  -  \n",
       "9945  18110886       5.48                                                  -  \n",
       "9955    994253     -16.84                                                  -  \n",
       "\n",
       "[893 rows x 10 columns]"
      ]
     },
     "execution_count": 4,
     "metadata": {},
     "output_type": "execute_result"
    }
   ],
   "source": [
    "df = pd.concat([i for i in dfs if i.shape[1] == 11])  # 剛好「11列」才是數據表格 (shape -> (行, 列) )\n",
    "df.columns = df.columns.droplevel(0)  # 去掉列標題第一層 (類別)\n",
    "df = df[df[\"公司代號\"] != \"合計\"]  # 去掉有\"合計\"的整欄\n",
    "df = df.set_index([\"公司代號\"])\n",
    "df"
   ]
  }
 ],
 "metadata": {
  "kernelspec": {
   "display_name": "Python 3",
   "language": "python",
   "name": "python3"
  },
  "language_info": {
   "codemirror_mode": {
    "name": "ipython",
    "version": 3
   },
   "file_extension": ".py",
   "mimetype": "text/x-python",
   "name": "python",
   "nbconvert_exporter": "python",
   "pygments_lexer": "ipython3",
   "version": "3.9.18"
  },
  "orig_nbformat": 4,
  "vscode": {
   "interpreter": {
    "hash": "c261aea317cc0286b3b3261fbba9abdec21eaa57589985bb7a274bf54d6cc0a7"
   }
  }
 },
 "nbformat": 4,
 "nbformat_minor": 2
}
