{
 "cells": [
  {
   "cell_type": "code",
   "execution_count": 45,
   "metadata": {},
   "outputs": [],
   "source": [
    "import asyncio\n",
    "import sys, os\n",
    "import pandas as pd\n",
    "from tqdm import tqdm\n",
    "sys.path.extend(['..', '../..']) \n",
    "\n",
    "path_data_base = (os.path.join(os.path.dirname(os.getcwd()), 'data_base', 'binance'))"
   ]
  },
  {
   "cell_type": "markdown",
   "metadata": {},
   "source": [
    "# SPOT"
   ]
  },
  {
   "cell_type": "code",
   "execution_count": 62,
   "metadata": {},
   "outputs": [],
   "source": [
    "file_path = os.path.join(path_data_base, 'spot', 'ohlcv', '1h')\n",
    "df = pd.concat({\n",
    "    file_name.split('_')[0]: pd.read_pickle(os.path.join(file_path, file_name))\n",
    "    for file_name in os.listdir(file_path)\n",
    "})\n",
    "\n",
    "df = df.swaplevel(0, 1)\n",
    "df.index.names = ['datetime', 'symbol']"
   ]
  },
  {
   "cell_type": "code",
   "execution_count": 64,
   "metadata": {},
   "outputs": [],
   "source": [
    "for item in tqdm(df.columns):\n",
    "    df[item].unstack().to_csv(os.path.join(path_data_base, 'spot', f'{item}.csv'))"
   ]
  },
  {
   "cell_type": "markdown",
   "metadata": {},
   "source": [
    "# USDT"
   ]
  },
  {
   "cell_type": "markdown",
   "metadata": {},
   "source": [
    "## OHLCV"
   ]
  },
  {
   "cell_type": "code",
   "execution_count": 25,
   "metadata": {},
   "outputs": [],
   "source": [
    "file_path = os.path.join(path_data_base, 'usd', 'ohlcv', '1h')\n",
    "df = pd.concat({\n",
    "    file_name.split('_')[0]: pd.read_pickle(os.path.join(file_path, file_name))\n",
    "    for file_name in os.listdir(file_path)\n",
    "})\n",
    "\n",
    "df = df.swaplevel(0, 1)\n",
    "df.index.names = ['datetime', 'symbol']"
   ]
  },
  {
   "cell_type": "code",
   "execution_count": 32,
   "metadata": {},
   "outputs": [],
   "source": [
    "for item in tqdm(df.columns):\n",
    "    df[item].unstack().to_csv(os.path.join(path_data_base, 'usd', f'{item}.csv'))"
   ]
  },
  {
   "cell_type": "markdown",
   "metadata": {},
   "source": [
    "## Funding Rate"
   ]
  },
  {
   "cell_type": "code",
   "execution_count": 34,
   "metadata": {},
   "outputs": [],
   "source": [
    "file_path = os.path.join(path_data_base, 'usd', 'funding_rate')\n",
    "df = pd.concat({\n",
    "    file_name.split('_')[0]: pd.read_pickle(os.path.join(file_path, file_name))\n",
    "    for file_name in os.listdir(file_path)\n",
    "})\n",
    "\n",
    "df = df.swaplevel(0, 1)\n",
    "df.index.names = ['datetime', 'symbol']"
   ]
  },
  {
   "cell_type": "code",
   "execution_count": 39,
   "metadata": {},
   "outputs": [],
   "source": [
    "for item in df.columns:\n",
    "    df[item].unstack().to_csv(os.path.join(path_data_base, 'usd', f'{item}.csv'))"
   ]
  },
  {
   "cell_type": "markdown",
   "metadata": {},
   "source": [
    "## Long Short Ratio"
   ]
  },
  {
   "cell_type": "code",
   "execution_count": 94,
   "metadata": {},
   "outputs": [],
   "source": [
    "for long_short_ratio_type in ['global', 'top_account', 'top_position']:\n",
    "    file_path = os.path.join(path_data_base, 'usd', 'long_short_ratio', long_short_ratio_type, '1h')\n",
    "    df = pd.concat({\n",
    "        file_name.split('_')[0]: pd.read_pickle(os.path.join(file_path, file_name))\n",
    "        for file_name in os.listdir(file_path)\n",
    "    })\n",
    "    df = df.swaplevel(0, 1)\n",
    "    df.index.names = ['datetime', 'symbol']\n",
    "    df = df.sort_index().reset_index().drop_duplicates(subset=['long_short_ratio'], keep='last').set_index(['datetime', 'symbol'])\n",
    "\n",
    "    df['long_short_ratio'].unstack().to_csv(os.path.join(path_data_base, 'usd', f'long_short_ratio_{long_short_ratio_type}.csv'))"
   ]
  },
  {
   "cell_type": "markdown",
   "metadata": {},
   "source": [
    "# Tail"
   ]
  }
 ],
 "metadata": {
  "kernelspec": {
   "display_name": "env3.9",
   "language": "python",
   "name": "python3"
  },
  "language_info": {
   "codemirror_mode": {
    "name": "ipython",
    "version": 3
   },
   "file_extension": ".py",
   "mimetype": "text/x-python",
   "name": "python",
   "nbconvert_exporter": "python",
   "pygments_lexer": "ipython3",
   "version": "3.11.5"
  }
 },
 "nbformat": 4,
 "nbformat_minor": 2
}
