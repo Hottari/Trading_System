{
 "cells": [
  {
   "cell_type": "markdown",
   "metadata": {},
   "source": [
    "# Note\n",
    "* 直接存\n",
    "    * property_items = ['securities_property', 'index_property']\n",
    "    * others = ['futures', 'index_components', 'index']\n",
    "\n",
    "- daily -> days=15\n",
    "    - daily_items = ['securities_trading_data', 'securities_returns', 'margin_trading', 'institutional_investors']\n",
    "\n",
    "- monthly -> months=2\n",
    "    - monthly_items = ['monthly_revenue']\n",
    "\n",
    "- quarterly -> months=6\n",
    "    - quarterly_items = ['financial_report']"
   ]
  },
  {
   "cell_type": "code",
   "execution_count": 1,
   "metadata": {},
   "outputs": [],
   "source": [
    "import pandas as pd\n",
    "from datetime import datetime\n",
    "import json\n",
    "\n",
    "import os, sys\n",
    "sys.path.extend(['../', '../../'])\n",
    "from Data_Loader.api_connecter.tej_handler import TEJHandler"
   ]
  },
  {
   "cell_type": "code",
   "execution_count": 1,
   "metadata": {},
   "outputs": [],
   "source": [
    "# 換地點要改\n",
    "CONFIG_ROOT = os.path.join(os.path.dirname(os.getcwd()), 'config')\n",
    "\n",
    "# read data\n",
    "import configparser\n",
    "config = configparser.ConfigParser()\n",
    "for file_name in os.listdir(CONFIG_ROOT):\n",
    "    file_path = os.path.join(CONFIG_ROOT, file_name)\n",
    "    if os.path.isfile(file_path):\n",
    "        if file_name.endswith('.ini'):\n",
    "            config.read(file_path)\n",
    "SAVE_ROOT = config.get('path', 'alpha_data_path')\n"
   ]
  },
  {
   "cell_type": "markdown",
   "metadata": {},
   "source": [
    "# DB\n",
    "* if data missing"
   ]
  },
  {
   "cell_type": "code",
   "execution_count": null,
   "metadata": {},
   "outputs": [],
   "source": [
    "from Data_Loader.data_loader import DBLoader\n",
    "from pymongo import MongoClient\n",
    "db = MongoClient(db_url)\n",
    "db_loader = DBLoader()"
   ]
  },
  {
   "cell_type": "code",
   "execution_count": 2,
   "metadata": {},
   "outputs": [],
   "source": [
    "start_date = '2013-1-1'"
   ]
  },
  {
   "cell_type": "code",
   "execution_count": 20,
   "metadata": {},
   "outputs": [],
   "source": [
    "df = db_loader.get_db_df(\n",
    "    db = db,\n",
    "    collection_name='securities_property', db_name='PSTAGE',\n",
    "    #need_col=['日期', '指數收盤價', '指數開盤價'],\n",
    "    query_dict={\n",
    "        '目前狀態': {'$gte': pd.to_datetime(start_date)},\n",
    "    },\n",
    ")\n",
    "df.to_parquet(os.path.join(SAVE_ROOT, f\"{'securities_property'}.parquet\"))"
   ]
  },
  {
   "cell_type": "code",
   "execution_count": 18,
   "metadata": {},
   "outputs": [],
   "source": [
    "df = db_loader.get_db_df(\n",
    "    db = db,\n",
    "    collection_name='tsx_property', db_name='PSTAGE',\n",
    "    #need_col=['日期', '指數收盤價', '指數開盤價'],\n",
    "    query_dict={\n",
    "        '目前狀態': {'$gte': pd.to_datetime(start_date)},\n",
    "    },\n",
    ")\n",
    "df.to_parquet(os.path.join(SAVE_ROOT, f\"{'index_property'}.parquet\"))"
   ]
  },
  {
   "cell_type": "code",
   "execution_count": 14,
   "metadata": {},
   "outputs": [],
   "source": [
    "df = db_loader.get_db_df(\n",
    "    db = db,\n",
    "    collection_name='property', db_name='PDATA',\n",
    "    #need_col=['日期', '指數收盤價', '指數開盤價'],\n",
    "    query_dict={\n",
    "        '目前狀態': {'$gte': pd.to_datetime(start_date)},\n",
    "    },\n",
    ")\n",
    "df.sort_values(by=['目前狀態', '代碼']).to_parquet(os.path.join(SAVE_ROOT, f\"{'property'}.parquet\"))"
   ]
  },
  {
   "cell_type": "code",
   "execution_count": 37,
   "metadata": {},
   "outputs": [],
   "source": [
    "df = db_loader.get_db_df(\n",
    "    db = db,\n",
    "    collection_name='tsx', db_name='PSTAGE',\n",
    "    #need_col=['日期', '指數收盤價', '指數開盤價'],\n",
    "    query_dict={\n",
    "        '日期': {'$gte': pd.to_datetime(start_date)},\n",
    "    },\n",
    ")\n",
    "df.to_parquet(os.path.join(SAVE_ROOT, f\"{'index'}.parquet\"))"
   ]
  },
  {
   "cell_type": "code",
   "execution_count": 16,
   "metadata": {},
   "outputs": [],
   "source": [
    "df = db_loader.get_db_df(\n",
    "    db = db,\n",
    "    collection_name='securities_trading_data', db_name='PSTAGE',\n",
    "    #need_col=['日期', '指數收盤價', '指數開盤價'],\n",
    "    query_dict={\n",
    "        '日期': {'$gte': pd.to_datetime(start_date)},\n",
    "    },\n",
    ")\n",
    "df.to_parquet(os.path.join(SAVE_ROOT, f\"pstage_{'securities_trading_data'}.parquet\"))"
   ]
  },
  {
   "cell_type": "code",
   "execution_count": 4,
   "metadata": {},
   "outputs": [],
   "source": [
    "df = db_loader.get_db_df(\n",
    "    db = db,\n",
    "    collection_name='securities_returns', db_name='PSTAGE',\n",
    "    #need_col=['日期', '指數收盤價', '指數開盤價'],\n",
    "    query_dict={\n",
    "        '日期': {'$gte': pd.to_datetime(start_date)},\n",
    "    },\n",
    ")\n",
    "df.to_parquet(os.path.join(SAVE_ROOT, f\"pstage_{'securities_returns'}.parquet\"))"
   ]
  },
  {
   "cell_type": "code",
   "execution_count": 14,
   "metadata": {},
   "outputs": [],
   "source": [
    "df = db_loader.get_db_df(\n",
    "    db = db,\n",
    "    collection_name='margin_trading', db_name='PSTAGE',\n",
    "    #need_col=['日期', '指數收盤價', '指數開盤價'],\n",
    "    query_dict={\n",
    "        '日期': {'$gte': pd.to_datetime(start_date)},\n",
    "    },\n",
    ")\n",
    "df.to_parquet(os.path.join(SAVE_ROOT, f\"pstage_{'margin_trading'}.parquet\"))"
   ]
  },
  {
   "cell_type": "code",
   "execution_count": 27,
   "metadata": {},
   "outputs": [],
   "source": [
    "df = db_loader.get_db_df(\n",
    "    db = db,\n",
    "    collection_name='three_major_investors_activity', db_name='PSTAGE',\n",
    "    #need_col=['日期', '指數收盤價', '指數開盤價'],\n",
    "    query_dict={\n",
    "        '日期': {'$gte': pd.to_datetime(start_date)},\n",
    "    },\n",
    ")\n",
    "df.to_parquet(os.path.join(SAVE_ROOT, f\"pstage_{'institutional_investors'}.parquet\"))"
   ]
  },
  {
   "cell_type": "code",
   "execution_count": 10,
   "metadata": {},
   "outputs": [],
   "source": [
    "df = db_loader.get_db_df(\n",
    "    db = db,\n",
    "    collection_name='monthly_revenue', db_name='PSTAGE',\n",
    "    #need_col=['日期', '指數收盤價', '指數開盤價'],\n",
    "    query_dict={\n",
    "        '營收發布日': {'$gte': pd.to_datetime(start_date)},\n",
    "    },\n",
    ")\n",
    "df.to_parquet(os.path.join(SAVE_ROOT, f\"pstage_{'monthly_revenue'}.parquet\"))"
   ]
  },
  {
   "cell_type": "code",
   "execution_count": null,
   "metadata": {},
   "outputs": [],
   "source": [
    "# get financial report\n",
    "df = db_loader.get_db_df(\n",
    "    db = db,\n",
    "    collection_name='financial_report', db_name='PSTAGE',\n",
    "    #need_col=['日期', '指數收盤價', '指數開盤價'],\n",
    "    query_dict={\n",
    "        '財報發布日': {'$gte': pd.to_datetime(start_date)},\n",
    "    },\n",
    ")\n",
    "df.to_parquet(os.path.join(SAVE_ROOT, f\"pstage_{'financial_report'}.parquet\"))"
   ]
  },
  {
   "cell_type": "markdown",
   "metadata": {},
   "source": [
    "# Tail"
   ]
  }
 ],
 "metadata": {
  "kernelspec": {
   "display_name": "env3.11",
   "language": "python",
   "name": "python3"
  },
  "language_info": {
   "codemirror_mode": {
    "name": "ipython",
    "version": 3
   },
   "file_extension": ".py",
   "mimetype": "text/x-python",
   "name": "python",
   "nbconvert_exporter": "python",
   "pygments_lexer": "ipython3",
   "version": "3.11.5"
  }
 },
 "nbformat": 4,
 "nbformat_minor": 2
}
